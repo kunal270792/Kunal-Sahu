{
 "cells": [
  {
   "cell_type": "markdown",
   "metadata": {
    "colab_type": "text",
    "id": "bczMaeq3A42z"
   },
   "source": [
    "# Introduction: Machine Learning Project Part 2\n",
    "\n",
    "In this series of notebooks, we are working on a supervised, regression machine learning problem. Using real-world New York City building energy data, we want to predict the Energy Star Score of a building and determine the factors that influence the score.\n",
    "\n",
    "We are using the general outline of the machine learning pipeline to structure our project:\n",
    "\n",
    "1. Data cleaning and formatting\n",
    "2. Exploratory data analysis\n",
    "3. Feature engineering and selection\n",
    "4. Compare several machine learning models on a performance metric\n",
    "5. Perform hyperparameter tuning on the best model to optimize it for the problem\n",
    "6. Evaluate the best model on the testing set\n",
    "7. Interpret the model results to the extent possible\n",
    "8. Draw conclusions and write a well-documented report\n",
    "\n",
    "The first notebook covered steps 1-3, and in this notebook, we will cover 4-6. In this series, I focus more on the implementations rather than the details"
   ]
  },
  {
   "cell_type": "markdown",
   "metadata": {
    "colab_type": "text",
    "id": "huoGMlCeA421"
   },
   "source": [
    "### Imports \n",
    "\n",
    "We will use the standard data science and machine learning libraries in this project. "
   ]
  },
  {
   "cell_type": "code",
   "execution_count": 0,
   "metadata": {
    "colab": {},
    "colab_type": "code",
    "id": "bkzYu4C3zoKt"
   },
   "outputs": [],
   "source": [
    "from sklearn.experimental import enable_iterative_imputer \n",
    "from sklearn.impute import IterativeImputer"
   ]
  },
  {
   "cell_type": "code",
   "execution_count": 0,
   "metadata": {
    "colab": {},
    "colab_type": "code",
    "id": "lyCYN4HJsmFO"
   },
   "outputs": [],
   "source": [
    "#!pip install scikit-learn==0.21.2"
   ]
  },
  {
   "cell_type": "code",
   "execution_count": 0,
   "metadata": {
    "colab": {},
    "colab_type": "code",
    "id": "9fk-YolmA422"
   },
   "outputs": [],
   "source": [
    "# Pandas and numpy for data manipulation\n",
    "import pandas as pd\n",
    "import numpy as np\n",
    "\n",
    "# No warnings about setting value on copy of slice\n",
    "pd.options.mode.chained_assignment = None\n",
    "pd.set_option('display.max_columns', 60)\n",
    "\n",
    "# Matplotlib for visualization\n",
    "import matplotlib.pyplot as plt\n",
    "%matplotlib inline\n",
    "\n",
    "# Set default font size\n",
    "plt.rcParams['font.size'] = 24\n",
    "\n",
    "from IPython.core.pylabtools import figsize\n",
    "\n",
    "# Seaborn for visualization\n",
    "import seaborn as sns\n",
    "sns.set(font_scale = 2)\n",
    "\n",
    "# Imputing missing values and scaling values\n",
    "from sklearn.preprocessing import MinMaxScaler,Imputer\n",
    "# Machine Learning Models\n",
    "from sklearn.linear_model import LinearRegression\n",
    "from sklearn.ensemble import RandomForestRegressor, GradientBoostingRegressor\n",
    "from sklearn.svm import SVR\n",
    "from sklearn.neighbors import KNeighborsRegressor\n",
    "\n",
    "# Hyperparameter tuning\n",
    "from sklearn.model_selection import RandomizedSearchCV, GridSearchCV"
   ]
  },
  {
   "cell_type": "markdown",
   "metadata": {
    "colab_type": "text",
    "id": "ouvg8BAmA426"
   },
   "source": [
    "### Read in Data\n",
    "\n",
    "First let's read in the formatted data from the previous notebook. "
   ]
  },
  {
   "cell_type": "code",
   "execution_count": 5,
   "metadata": {
    "colab": {
     "base_uri": "https://localhost:8080/",
     "height": 101
    },
    "colab_type": "code",
    "executionInfo": {
     "elapsed": 1638,
     "status": "ok",
     "timestamp": 1583772770597,
     "user": {
      "displayName": "Sayan Dey",
      "photoUrl": "https://lh3.googleusercontent.com/a-/AOh14GhGdAaAMDWFJQH8pl6eFDU9flchgFMbU_GzEBhtcC8=s64",
      "userId": "03603580465490055794"
     },
     "user_tz": -330
    },
    "id": "yzs8XwYgA427",
    "outputId": "7977cbe9-1fb6-4f26-9440-6df95435489f"
   },
   "outputs": [
    {
     "name": "stdout",
     "output_type": "stream",
     "text": [
      "Drive already mounted at /gdrive; to attempt to forcibly remount, call drive.mount(\"/gdrive\", force_remount=True).\n",
      "Training Feature Size:  (6622, 64)\n",
      "Testing Feature Size:   (2839, 64)\n",
      "Training Labels Size:   (6622, 1)\n",
      "Testing Labels Size:    (2839, 1)\n"
     ]
    }
   ],
   "source": [
    "# Read in data into dataframes \n",
    "from google.colab import drive\n",
    "drive.mount('/gdrive')\n",
    "train_features = pd.read_csv('/gdrive/My Drive/Case Study AIML/Energy Score Case Study/data/training_features.csv')\n",
    "test_features = pd.read_csv('/gdrive/My Drive/Case Study AIML/Energy Score Case Study/data/testing_features.csv')\n",
    "train_labels = pd.read_csv('/gdrive/My Drive/Case Study AIML/Energy Score Case Study/data/training_labels.csv')\n",
    "test_labels = pd.read_csv('/gdrive/My Drive/Case Study AIML/Energy Score Case Study/data/testing_labels.csv')\n",
    "\n",
    "# Display sizes of data\n",
    "print('Training Feature Size: ', train_features.shape)\n",
    "print('Testing Feature Size:  ', test_features.shape)\n",
    "print('Training Labels Size:  ', train_labels.shape)\n",
    "print('Testing Labels Size:   ', test_labels.shape)"
   ]
  },
  {
   "cell_type": "markdown",
   "metadata": {
    "colab_type": "text",
    "id": "69vEaxRHA42-"
   },
   "source": [
    "As a reminder, here is what the formatted data looks like. In the first notebook, we engineered a number features by taking the natural log of the variables, included two categorical variables, and selected a subset of features by removing highly collinear features. "
   ]
  },
  {
   "cell_type": "code",
   "execution_count": 6,
   "metadata": {
    "colab": {
     "base_uri": "https://localhost:8080/",
     "height": 599
    },
    "colab_type": "code",
    "executionInfo": {
     "elapsed": 2081,
     "status": "ok",
     "timestamp": 1583772771611,
     "user": {
      "displayName": "Sayan Dey",
      "photoUrl": "https://lh3.googleusercontent.com/a-/AOh14GhGdAaAMDWFJQH8pl6eFDU9flchgFMbU_GzEBhtcC8=s64",
      "userId": "03603580465490055794"
     },
     "user_tz": -330
    },
    "id": "MUzbonPKA42_",
    "outputId": "f1ddbd63-d871-41af-c246-91ee1c4da218"
   },
   "outputs": [
    {
     "data": {
      "text/html": [
       "<div>\n",
       "<style scoped>\n",
       "    .dataframe tbody tr th:only-of-type {\n",
       "        vertical-align: middle;\n",
       "    }\n",
       "\n",
       "    .dataframe tbody tr th {\n",
       "        vertical-align: top;\n",
       "    }\n",
       "\n",
       "    .dataframe thead th {\n",
       "        text-align: right;\n",
       "    }\n",
       "</style>\n",
       "<table border=\"1\" class=\"dataframe\">\n",
       "  <thead>\n",
       "    <tr style=\"text-align: right;\">\n",
       "      <th></th>\n",
       "      <th>Order</th>\n",
       "      <th>Property Id</th>\n",
       "      <th>DOF Gross Floor Area</th>\n",
       "      <th>Year Built</th>\n",
       "      <th>Number of Buildings - Self-reported</th>\n",
       "      <th>Occupancy</th>\n",
       "      <th>Site EUI (kBtu/ft²)</th>\n",
       "      <th>Weather Normalized Site Electricity Intensity (kWh/ft²)</th>\n",
       "      <th>Weather Normalized Site Natural Gas Intensity (therms/ft²)</th>\n",
       "      <th>Water Intensity (All Water Sources) (gal/ft²)</th>\n",
       "      <th>Latitude</th>\n",
       "      <th>Longitude</th>\n",
       "      <th>Community Board</th>\n",
       "      <th>Census Tract</th>\n",
       "      <th>log_Direct GHG Emissions (Metric Tons CO2e)</th>\n",
       "      <th>log_Water Intensity (All Water Sources) (gal/ft²)</th>\n",
       "      <th>Borough_Staten Island</th>\n",
       "      <th>Largest Property Use Type_Adult Education</th>\n",
       "      <th>Largest Property Use Type_Automobile Dealership</th>\n",
       "      <th>Largest Property Use Type_Bank Branch</th>\n",
       "      <th>Largest Property Use Type_College/University</th>\n",
       "      <th>Largest Property Use Type_Convenience Store without Gas Station</th>\n",
       "      <th>Largest Property Use Type_Courthouse</th>\n",
       "      <th>Largest Property Use Type_Distribution Center</th>\n",
       "      <th>Largest Property Use Type_Enclosed Mall</th>\n",
       "      <th>Largest Property Use Type_Financial Office</th>\n",
       "      <th>Largest Property Use Type_Hospital (General Medical &amp; Surgical)</th>\n",
       "      <th>Largest Property Use Type_Hotel</th>\n",
       "      <th>Largest Property Use Type_K-12 School</th>\n",
       "      <th>Largest Property Use Type_Library</th>\n",
       "      <th>...</th>\n",
       "      <th>Largest Property Use Type_Multifamily Housing</th>\n",
       "      <th>Largest Property Use Type_Museum</th>\n",
       "      <th>Largest Property Use Type_Non-Refrigerated Warehouse</th>\n",
       "      <th>Largest Property Use Type_Other</th>\n",
       "      <th>Largest Property Use Type_Other - Education</th>\n",
       "      <th>Largest Property Use Type_Other - Entertainment/Public Assembly</th>\n",
       "      <th>Largest Property Use Type_Other - Lodging/Residential</th>\n",
       "      <th>Largest Property Use Type_Other - Mall</th>\n",
       "      <th>Largest Property Use Type_Other - Public Services</th>\n",
       "      <th>Largest Property Use Type_Other - Recreation</th>\n",
       "      <th>Largest Property Use Type_Other - Services</th>\n",
       "      <th>Largest Property Use Type_Other - Specialty Hospital</th>\n",
       "      <th>Largest Property Use Type_Outpatient Rehabilitation/Physical Therapy</th>\n",
       "      <th>Largest Property Use Type_Parking</th>\n",
       "      <th>Largest Property Use Type_Performing Arts</th>\n",
       "      <th>Largest Property Use Type_Pre-school/Daycare</th>\n",
       "      <th>Largest Property Use Type_Refrigerated Warehouse</th>\n",
       "      <th>Largest Property Use Type_Repair Services (Vehicle, Shoe, Locksmith, etc.)</th>\n",
       "      <th>Largest Property Use Type_Residence Hall/Dormitory</th>\n",
       "      <th>Largest Property Use Type_Residential Care Facility</th>\n",
       "      <th>Largest Property Use Type_Restaurant</th>\n",
       "      <th>Largest Property Use Type_Retail Store</th>\n",
       "      <th>Largest Property Use Type_Self-Storage Facility</th>\n",
       "      <th>Largest Property Use Type_Senior Care Community</th>\n",
       "      <th>Largest Property Use Type_Social/Meeting Hall</th>\n",
       "      <th>Largest Property Use Type_Strip Mall</th>\n",
       "      <th>Largest Property Use Type_Supermarket/Grocery Store</th>\n",
       "      <th>Largest Property Use Type_Urgent Care/Clinic/Other Outpatient</th>\n",
       "      <th>Largest Property Use Type_Wholesale Club/Supercenter</th>\n",
       "      <th>Largest Property Use Type_Worship Facility</th>\n",
       "    </tr>\n",
       "  </thead>\n",
       "  <tbody>\n",
       "    <tr>\n",
       "      <th>0</th>\n",
       "      <td>13276</td>\n",
       "      <td>5849784</td>\n",
       "      <td>90300.0</td>\n",
       "      <td>1950</td>\n",
       "      <td>1</td>\n",
       "      <td>100</td>\n",
       "      <td>126.0</td>\n",
       "      <td>5.2</td>\n",
       "      <td>1.2</td>\n",
       "      <td>99.41</td>\n",
       "      <td>NaN</td>\n",
       "      <td>NaN</td>\n",
       "      <td>NaN</td>\n",
       "      <td>NaN</td>\n",
       "      <td>6.088818</td>\n",
       "      <td>4.599253</td>\n",
       "      <td>0</td>\n",
       "      <td>0</td>\n",
       "      <td>0</td>\n",
       "      <td>0</td>\n",
       "      <td>0</td>\n",
       "      <td>0</td>\n",
       "      <td>0</td>\n",
       "      <td>0</td>\n",
       "      <td>0</td>\n",
       "      <td>0</td>\n",
       "      <td>0</td>\n",
       "      <td>0</td>\n",
       "      <td>0</td>\n",
       "      <td>0</td>\n",
       "      <td>...</td>\n",
       "      <td>1</td>\n",
       "      <td>0</td>\n",
       "      <td>0</td>\n",
       "      <td>0</td>\n",
       "      <td>0</td>\n",
       "      <td>0</td>\n",
       "      <td>0</td>\n",
       "      <td>0</td>\n",
       "      <td>0</td>\n",
       "      <td>0</td>\n",
       "      <td>0</td>\n",
       "      <td>0</td>\n",
       "      <td>0</td>\n",
       "      <td>0</td>\n",
       "      <td>0</td>\n",
       "      <td>0</td>\n",
       "      <td>0</td>\n",
       "      <td>0</td>\n",
       "      <td>0</td>\n",
       "      <td>0</td>\n",
       "      <td>0</td>\n",
       "      <td>0</td>\n",
       "      <td>0</td>\n",
       "      <td>0</td>\n",
       "      <td>0</td>\n",
       "      <td>0</td>\n",
       "      <td>0</td>\n",
       "      <td>0</td>\n",
       "      <td>0</td>\n",
       "      <td>0</td>\n",
       "    </tr>\n",
       "    <tr>\n",
       "      <th>1</th>\n",
       "      <td>7377</td>\n",
       "      <td>4398442</td>\n",
       "      <td>52000.0</td>\n",
       "      <td>1926</td>\n",
       "      <td>1</td>\n",
       "      <td>100</td>\n",
       "      <td>95.4</td>\n",
       "      <td>4.7</td>\n",
       "      <td>0.9</td>\n",
       "      <td>NaN</td>\n",
       "      <td>40.835496</td>\n",
       "      <td>-73.887745</td>\n",
       "      <td>3.0</td>\n",
       "      <td>161.0</td>\n",
       "      <td>5.384036</td>\n",
       "      <td>NaN</td>\n",
       "      <td>0</td>\n",
       "      <td>0</td>\n",
       "      <td>0</td>\n",
       "      <td>0</td>\n",
       "      <td>0</td>\n",
       "      <td>0</td>\n",
       "      <td>0</td>\n",
       "      <td>0</td>\n",
       "      <td>0</td>\n",
       "      <td>0</td>\n",
       "      <td>0</td>\n",
       "      <td>0</td>\n",
       "      <td>0</td>\n",
       "      <td>0</td>\n",
       "      <td>...</td>\n",
       "      <td>1</td>\n",
       "      <td>0</td>\n",
       "      <td>0</td>\n",
       "      <td>0</td>\n",
       "      <td>0</td>\n",
       "      <td>0</td>\n",
       "      <td>0</td>\n",
       "      <td>0</td>\n",
       "      <td>0</td>\n",
       "      <td>0</td>\n",
       "      <td>0</td>\n",
       "      <td>0</td>\n",
       "      <td>0</td>\n",
       "      <td>0</td>\n",
       "      <td>0</td>\n",
       "      <td>0</td>\n",
       "      <td>0</td>\n",
       "      <td>0</td>\n",
       "      <td>0</td>\n",
       "      <td>0</td>\n",
       "      <td>0</td>\n",
       "      <td>0</td>\n",
       "      <td>0</td>\n",
       "      <td>0</td>\n",
       "      <td>0</td>\n",
       "      <td>0</td>\n",
       "      <td>0</td>\n",
       "      <td>0</td>\n",
       "      <td>0</td>\n",
       "      <td>0</td>\n",
       "    </tr>\n",
       "    <tr>\n",
       "      <th>2</th>\n",
       "      <td>9479</td>\n",
       "      <td>4665374</td>\n",
       "      <td>104700.0</td>\n",
       "      <td>1954</td>\n",
       "      <td>1</td>\n",
       "      <td>100</td>\n",
       "      <td>40.4</td>\n",
       "      <td>3.8</td>\n",
       "      <td>0.3</td>\n",
       "      <td>NaN</td>\n",
       "      <td>40.663206</td>\n",
       "      <td>-73.949469</td>\n",
       "      <td>9.0</td>\n",
       "      <td>329.0</td>\n",
       "      <td>5.017280</td>\n",
       "      <td>NaN</td>\n",
       "      <td>0</td>\n",
       "      <td>0</td>\n",
       "      <td>0</td>\n",
       "      <td>0</td>\n",
       "      <td>0</td>\n",
       "      <td>0</td>\n",
       "      <td>0</td>\n",
       "      <td>0</td>\n",
       "      <td>0</td>\n",
       "      <td>0</td>\n",
       "      <td>0</td>\n",
       "      <td>0</td>\n",
       "      <td>0</td>\n",
       "      <td>0</td>\n",
       "      <td>...</td>\n",
       "      <td>1</td>\n",
       "      <td>0</td>\n",
       "      <td>0</td>\n",
       "      <td>0</td>\n",
       "      <td>0</td>\n",
       "      <td>0</td>\n",
       "      <td>0</td>\n",
       "      <td>0</td>\n",
       "      <td>0</td>\n",
       "      <td>0</td>\n",
       "      <td>0</td>\n",
       "      <td>0</td>\n",
       "      <td>0</td>\n",
       "      <td>0</td>\n",
       "      <td>0</td>\n",
       "      <td>0</td>\n",
       "      <td>0</td>\n",
       "      <td>0</td>\n",
       "      <td>0</td>\n",
       "      <td>0</td>\n",
       "      <td>0</td>\n",
       "      <td>0</td>\n",
       "      <td>0</td>\n",
       "      <td>0</td>\n",
       "      <td>0</td>\n",
       "      <td>0</td>\n",
       "      <td>0</td>\n",
       "      <td>0</td>\n",
       "      <td>0</td>\n",
       "      <td>0</td>\n",
       "    </tr>\n",
       "    <tr>\n",
       "      <th>3</th>\n",
       "      <td>14774</td>\n",
       "      <td>3393340</td>\n",
       "      <td>129333.0</td>\n",
       "      <td>1992</td>\n",
       "      <td>1</td>\n",
       "      <td>100</td>\n",
       "      <td>157.1</td>\n",
       "      <td>16.9</td>\n",
       "      <td>1.1</td>\n",
       "      <td>NaN</td>\n",
       "      <td>40.622968</td>\n",
       "      <td>-74.078742</td>\n",
       "      <td>1.0</td>\n",
       "      <td>27.0</td>\n",
       "      <td>6.510853</td>\n",
       "      <td>NaN</td>\n",
       "      <td>1</td>\n",
       "      <td>0</td>\n",
       "      <td>0</td>\n",
       "      <td>0</td>\n",
       "      <td>0</td>\n",
       "      <td>0</td>\n",
       "      <td>0</td>\n",
       "      <td>0</td>\n",
       "      <td>0</td>\n",
       "      <td>0</td>\n",
       "      <td>0</td>\n",
       "      <td>0</td>\n",
       "      <td>0</td>\n",
       "      <td>0</td>\n",
       "      <td>...</td>\n",
       "      <td>0</td>\n",
       "      <td>0</td>\n",
       "      <td>0</td>\n",
       "      <td>0</td>\n",
       "      <td>0</td>\n",
       "      <td>0</td>\n",
       "      <td>0</td>\n",
       "      <td>0</td>\n",
       "      <td>0</td>\n",
       "      <td>0</td>\n",
       "      <td>0</td>\n",
       "      <td>0</td>\n",
       "      <td>0</td>\n",
       "      <td>0</td>\n",
       "      <td>0</td>\n",
       "      <td>0</td>\n",
       "      <td>0</td>\n",
       "      <td>0</td>\n",
       "      <td>0</td>\n",
       "      <td>0</td>\n",
       "      <td>0</td>\n",
       "      <td>0</td>\n",
       "      <td>0</td>\n",
       "      <td>1</td>\n",
       "      <td>0</td>\n",
       "      <td>0</td>\n",
       "      <td>0</td>\n",
       "      <td>0</td>\n",
       "      <td>0</td>\n",
       "      <td>0</td>\n",
       "    </tr>\n",
       "    <tr>\n",
       "      <th>4</th>\n",
       "      <td>3286</td>\n",
       "      <td>2704325</td>\n",
       "      <td>109896.0</td>\n",
       "      <td>1927</td>\n",
       "      <td>1</td>\n",
       "      <td>100</td>\n",
       "      <td>62.3</td>\n",
       "      <td>3.5</td>\n",
       "      <td>0.0</td>\n",
       "      <td>28.65</td>\n",
       "      <td>40.782421</td>\n",
       "      <td>-73.972622</td>\n",
       "      <td>7.0</td>\n",
       "      <td>165.0</td>\n",
       "      <td>6.123589</td>\n",
       "      <td>3.355153</td>\n",
       "      <td>0</td>\n",
       "      <td>0</td>\n",
       "      <td>0</td>\n",
       "      <td>0</td>\n",
       "      <td>0</td>\n",
       "      <td>0</td>\n",
       "      <td>0</td>\n",
       "      <td>0</td>\n",
       "      <td>0</td>\n",
       "      <td>0</td>\n",
       "      <td>0</td>\n",
       "      <td>0</td>\n",
       "      <td>0</td>\n",
       "      <td>0</td>\n",
       "      <td>...</td>\n",
       "      <td>1</td>\n",
       "      <td>0</td>\n",
       "      <td>0</td>\n",
       "      <td>0</td>\n",
       "      <td>0</td>\n",
       "      <td>0</td>\n",
       "      <td>0</td>\n",
       "      <td>0</td>\n",
       "      <td>0</td>\n",
       "      <td>0</td>\n",
       "      <td>0</td>\n",
       "      <td>0</td>\n",
       "      <td>0</td>\n",
       "      <td>0</td>\n",
       "      <td>0</td>\n",
       "      <td>0</td>\n",
       "      <td>0</td>\n",
       "      <td>0</td>\n",
       "      <td>0</td>\n",
       "      <td>0</td>\n",
       "      <td>0</td>\n",
       "      <td>0</td>\n",
       "      <td>0</td>\n",
       "      <td>0</td>\n",
       "      <td>0</td>\n",
       "      <td>0</td>\n",
       "      <td>0</td>\n",
       "      <td>0</td>\n",
       "      <td>0</td>\n",
       "      <td>0</td>\n",
       "    </tr>\n",
       "    <tr>\n",
       "      <th>5</th>\n",
       "      <td>1060</td>\n",
       "      <td>2430725</td>\n",
       "      <td>182655.0</td>\n",
       "      <td>1929</td>\n",
       "      <td>1</td>\n",
       "      <td>90</td>\n",
       "      <td>52.9</td>\n",
       "      <td>9.7</td>\n",
       "      <td>0.2</td>\n",
       "      <td>4.80</td>\n",
       "      <td>40.725136</td>\n",
       "      <td>-74.004438</td>\n",
       "      <td>2.0</td>\n",
       "      <td>37.0</td>\n",
       "      <td>5.516649</td>\n",
       "      <td>1.568616</td>\n",
       "      <td>0</td>\n",
       "      <td>0</td>\n",
       "      <td>0</td>\n",
       "      <td>0</td>\n",
       "      <td>0</td>\n",
       "      <td>0</td>\n",
       "      <td>0</td>\n",
       "      <td>0</td>\n",
       "      <td>0</td>\n",
       "      <td>0</td>\n",
       "      <td>0</td>\n",
       "      <td>0</td>\n",
       "      <td>0</td>\n",
       "      <td>0</td>\n",
       "      <td>...</td>\n",
       "      <td>0</td>\n",
       "      <td>0</td>\n",
       "      <td>0</td>\n",
       "      <td>0</td>\n",
       "      <td>0</td>\n",
       "      <td>0</td>\n",
       "      <td>0</td>\n",
       "      <td>0</td>\n",
       "      <td>0</td>\n",
       "      <td>0</td>\n",
       "      <td>0</td>\n",
       "      <td>0</td>\n",
       "      <td>0</td>\n",
       "      <td>0</td>\n",
       "      <td>0</td>\n",
       "      <td>0</td>\n",
       "      <td>0</td>\n",
       "      <td>0</td>\n",
       "      <td>0</td>\n",
       "      <td>0</td>\n",
       "      <td>0</td>\n",
       "      <td>0</td>\n",
       "      <td>0</td>\n",
       "      <td>0</td>\n",
       "      <td>0</td>\n",
       "      <td>0</td>\n",
       "      <td>0</td>\n",
       "      <td>0</td>\n",
       "      <td>0</td>\n",
       "      <td>0</td>\n",
       "    </tr>\n",
       "    <tr>\n",
       "      <th>6</th>\n",
       "      <td>10846</td>\n",
       "      <td>5737475</td>\n",
       "      <td>65400.0</td>\n",
       "      <td>1942</td>\n",
       "      <td>1</td>\n",
       "      <td>100</td>\n",
       "      <td>66.8</td>\n",
       "      <td>3.0</td>\n",
       "      <td>0.6</td>\n",
       "      <td>67.14</td>\n",
       "      <td>40.637833</td>\n",
       "      <td>-73.973045</td>\n",
       "      <td>12.0</td>\n",
       "      <td>490.0</td>\n",
       "      <td>5.426271</td>\n",
       "      <td>4.206780</td>\n",
       "      <td>0</td>\n",
       "      <td>0</td>\n",
       "      <td>0</td>\n",
       "      <td>0</td>\n",
       "      <td>0</td>\n",
       "      <td>0</td>\n",
       "      <td>0</td>\n",
       "      <td>0</td>\n",
       "      <td>0</td>\n",
       "      <td>0</td>\n",
       "      <td>0</td>\n",
       "      <td>0</td>\n",
       "      <td>0</td>\n",
       "      <td>0</td>\n",
       "      <td>...</td>\n",
       "      <td>1</td>\n",
       "      <td>0</td>\n",
       "      <td>0</td>\n",
       "      <td>0</td>\n",
       "      <td>0</td>\n",
       "      <td>0</td>\n",
       "      <td>0</td>\n",
       "      <td>0</td>\n",
       "      <td>0</td>\n",
       "      <td>0</td>\n",
       "      <td>0</td>\n",
       "      <td>0</td>\n",
       "      <td>0</td>\n",
       "      <td>0</td>\n",
       "      <td>0</td>\n",
       "      <td>0</td>\n",
       "      <td>0</td>\n",
       "      <td>0</td>\n",
       "      <td>0</td>\n",
       "      <td>0</td>\n",
       "      <td>0</td>\n",
       "      <td>0</td>\n",
       "      <td>0</td>\n",
       "      <td>0</td>\n",
       "      <td>0</td>\n",
       "      <td>0</td>\n",
       "      <td>0</td>\n",
       "      <td>0</td>\n",
       "      <td>0</td>\n",
       "      <td>0</td>\n",
       "    </tr>\n",
       "    <tr>\n",
       "      <th>7</th>\n",
       "      <td>4280</td>\n",
       "      <td>2670505</td>\n",
       "      <td>113150.0</td>\n",
       "      <td>1938</td>\n",
       "      <td>1</td>\n",
       "      <td>100</td>\n",
       "      <td>78.4</td>\n",
       "      <td>5.7</td>\n",
       "      <td>NaN</td>\n",
       "      <td>30.73</td>\n",
       "      <td>40.776035</td>\n",
       "      <td>-73.964418</td>\n",
       "      <td>8.0</td>\n",
       "      <td>142.0</td>\n",
       "      <td>6.067036</td>\n",
       "      <td>3.425239</td>\n",
       "      <td>0</td>\n",
       "      <td>0</td>\n",
       "      <td>0</td>\n",
       "      <td>0</td>\n",
       "      <td>0</td>\n",
       "      <td>0</td>\n",
       "      <td>0</td>\n",
       "      <td>0</td>\n",
       "      <td>0</td>\n",
       "      <td>0</td>\n",
       "      <td>0</td>\n",
       "      <td>0</td>\n",
       "      <td>0</td>\n",
       "      <td>0</td>\n",
       "      <td>...</td>\n",
       "      <td>1</td>\n",
       "      <td>0</td>\n",
       "      <td>0</td>\n",
       "      <td>0</td>\n",
       "      <td>0</td>\n",
       "      <td>0</td>\n",
       "      <td>0</td>\n",
       "      <td>0</td>\n",
       "      <td>0</td>\n",
       "      <td>0</td>\n",
       "      <td>0</td>\n",
       "      <td>0</td>\n",
       "      <td>0</td>\n",
       "      <td>0</td>\n",
       "      <td>0</td>\n",
       "      <td>0</td>\n",
       "      <td>0</td>\n",
       "      <td>0</td>\n",
       "      <td>0</td>\n",
       "      <td>0</td>\n",
       "      <td>0</td>\n",
       "      <td>0</td>\n",
       "      <td>0</td>\n",
       "      <td>0</td>\n",
       "      <td>0</td>\n",
       "      <td>0</td>\n",
       "      <td>0</td>\n",
       "      <td>0</td>\n",
       "      <td>0</td>\n",
       "      <td>0</td>\n",
       "    </tr>\n",
       "    <tr>\n",
       "      <th>8</th>\n",
       "      <td>12974</td>\n",
       "      <td>2964670</td>\n",
       "      <td>137700.0</td>\n",
       "      <td>1959</td>\n",
       "      <td>1</td>\n",
       "      <td>100</td>\n",
       "      <td>63.0</td>\n",
       "      <td>3.4</td>\n",
       "      <td>0.5</td>\n",
       "      <td>41.96</td>\n",
       "      <td>NaN</td>\n",
       "      <td>NaN</td>\n",
       "      <td>NaN</td>\n",
       "      <td>NaN</td>\n",
       "      <td>6.170447</td>\n",
       "      <td>3.736717</td>\n",
       "      <td>0</td>\n",
       "      <td>0</td>\n",
       "      <td>0</td>\n",
       "      <td>0</td>\n",
       "      <td>0</td>\n",
       "      <td>0</td>\n",
       "      <td>0</td>\n",
       "      <td>0</td>\n",
       "      <td>0</td>\n",
       "      <td>0</td>\n",
       "      <td>0</td>\n",
       "      <td>0</td>\n",
       "      <td>0</td>\n",
       "      <td>0</td>\n",
       "      <td>...</td>\n",
       "      <td>1</td>\n",
       "      <td>0</td>\n",
       "      <td>0</td>\n",
       "      <td>0</td>\n",
       "      <td>0</td>\n",
       "      <td>0</td>\n",
       "      <td>0</td>\n",
       "      <td>0</td>\n",
       "      <td>0</td>\n",
       "      <td>0</td>\n",
       "      <td>0</td>\n",
       "      <td>0</td>\n",
       "      <td>0</td>\n",
       "      <td>0</td>\n",
       "      <td>0</td>\n",
       "      <td>0</td>\n",
       "      <td>0</td>\n",
       "      <td>0</td>\n",
       "      <td>0</td>\n",
       "      <td>0</td>\n",
       "      <td>0</td>\n",
       "      <td>0</td>\n",
       "      <td>0</td>\n",
       "      <td>0</td>\n",
       "      <td>0</td>\n",
       "      <td>0</td>\n",
       "      <td>0</td>\n",
       "      <td>0</td>\n",
       "      <td>0</td>\n",
       "      <td>0</td>\n",
       "    </tr>\n",
       "    <tr>\n",
       "      <th>9</th>\n",
       "      <td>13244</td>\n",
       "      <td>4414693</td>\n",
       "      <td>63693.0</td>\n",
       "      <td>1941</td>\n",
       "      <td>1</td>\n",
       "      <td>100</td>\n",
       "      <td>97.8</td>\n",
       "      <td>4.3</td>\n",
       "      <td>0.8</td>\n",
       "      <td>86.88</td>\n",
       "      <td>NaN</td>\n",
       "      <td>NaN</td>\n",
       "      <td>NaN</td>\n",
       "      <td>NaN</td>\n",
       "      <td>5.680855</td>\n",
       "      <td>4.464528</td>\n",
       "      <td>0</td>\n",
       "      <td>0</td>\n",
       "      <td>0</td>\n",
       "      <td>0</td>\n",
       "      <td>0</td>\n",
       "      <td>0</td>\n",
       "      <td>0</td>\n",
       "      <td>0</td>\n",
       "      <td>0</td>\n",
       "      <td>0</td>\n",
       "      <td>0</td>\n",
       "      <td>0</td>\n",
       "      <td>0</td>\n",
       "      <td>0</td>\n",
       "      <td>...</td>\n",
       "      <td>1</td>\n",
       "      <td>0</td>\n",
       "      <td>0</td>\n",
       "      <td>0</td>\n",
       "      <td>0</td>\n",
       "      <td>0</td>\n",
       "      <td>0</td>\n",
       "      <td>0</td>\n",
       "      <td>0</td>\n",
       "      <td>0</td>\n",
       "      <td>0</td>\n",
       "      <td>0</td>\n",
       "      <td>0</td>\n",
       "      <td>0</td>\n",
       "      <td>0</td>\n",
       "      <td>0</td>\n",
       "      <td>0</td>\n",
       "      <td>0</td>\n",
       "      <td>0</td>\n",
       "      <td>0</td>\n",
       "      <td>0</td>\n",
       "      <td>0</td>\n",
       "      <td>0</td>\n",
       "      <td>0</td>\n",
       "      <td>0</td>\n",
       "      <td>0</td>\n",
       "      <td>0</td>\n",
       "      <td>0</td>\n",
       "      <td>0</td>\n",
       "      <td>0</td>\n",
       "    </tr>\n",
       "    <tr>\n",
       "      <th>10</th>\n",
       "      <td>3903</td>\n",
       "      <td>2669664</td>\n",
       "      <td>82644.0</td>\n",
       "      <td>1922</td>\n",
       "      <td>1</td>\n",
       "      <td>100</td>\n",
       "      <td>55.4</td>\n",
       "      <td>4.5</td>\n",
       "      <td>0.0</td>\n",
       "      <td>NaN</td>\n",
       "      <td>40.762510</td>\n",
       "      <td>-73.970085</td>\n",
       "      <td>5.0</td>\n",
       "      <td>11203.0</td>\n",
       "      <td>1.335001</td>\n",
       "      <td>NaN</td>\n",
       "      <td>0</td>\n",
       "      <td>0</td>\n",
       "      <td>0</td>\n",
       "      <td>0</td>\n",
       "      <td>0</td>\n",
       "      <td>0</td>\n",
       "      <td>0</td>\n",
       "      <td>0</td>\n",
       "      <td>0</td>\n",
       "      <td>0</td>\n",
       "      <td>0</td>\n",
       "      <td>0</td>\n",
       "      <td>0</td>\n",
       "      <td>0</td>\n",
       "      <td>...</td>\n",
       "      <td>1</td>\n",
       "      <td>0</td>\n",
       "      <td>0</td>\n",
       "      <td>0</td>\n",
       "      <td>0</td>\n",
       "      <td>0</td>\n",
       "      <td>0</td>\n",
       "      <td>0</td>\n",
       "      <td>0</td>\n",
       "      <td>0</td>\n",
       "      <td>0</td>\n",
       "      <td>0</td>\n",
       "      <td>0</td>\n",
       "      <td>0</td>\n",
       "      <td>0</td>\n",
       "      <td>0</td>\n",
       "      <td>0</td>\n",
       "      <td>0</td>\n",
       "      <td>0</td>\n",
       "      <td>0</td>\n",
       "      <td>0</td>\n",
       "      <td>0</td>\n",
       "      <td>0</td>\n",
       "      <td>0</td>\n",
       "      <td>0</td>\n",
       "      <td>0</td>\n",
       "      <td>0</td>\n",
       "      <td>0</td>\n",
       "      <td>0</td>\n",
       "      <td>0</td>\n",
       "    </tr>\n",
       "    <tr>\n",
       "      <th>11</th>\n",
       "      <td>8336</td>\n",
       "      <td>2809354</td>\n",
       "      <td>51317.0</td>\n",
       "      <td>1925</td>\n",
       "      <td>1</td>\n",
       "      <td>100</td>\n",
       "      <td>118.7</td>\n",
       "      <td>3.6</td>\n",
       "      <td>1.1</td>\n",
       "      <td>NaN</td>\n",
       "      <td>40.849372</td>\n",
       "      <td>-73.832075</td>\n",
       "      <td>10.0</td>\n",
       "      <td>26601.0</td>\n",
       "      <td>5.662960</td>\n",
       "      <td>NaN</td>\n",
       "      <td>0</td>\n",
       "      <td>0</td>\n",
       "      <td>0</td>\n",
       "      <td>0</td>\n",
       "      <td>0</td>\n",
       "      <td>0</td>\n",
       "      <td>0</td>\n",
       "      <td>0</td>\n",
       "      <td>0</td>\n",
       "      <td>0</td>\n",
       "      <td>0</td>\n",
       "      <td>0</td>\n",
       "      <td>0</td>\n",
       "      <td>0</td>\n",
       "      <td>...</td>\n",
       "      <td>1</td>\n",
       "      <td>0</td>\n",
       "      <td>0</td>\n",
       "      <td>0</td>\n",
       "      <td>0</td>\n",
       "      <td>0</td>\n",
       "      <td>0</td>\n",
       "      <td>0</td>\n",
       "      <td>0</td>\n",
       "      <td>0</td>\n",
       "      <td>0</td>\n",
       "      <td>0</td>\n",
       "      <td>0</td>\n",
       "      <td>0</td>\n",
       "      <td>0</td>\n",
       "      <td>0</td>\n",
       "      <td>0</td>\n",
       "      <td>0</td>\n",
       "      <td>0</td>\n",
       "      <td>0</td>\n",
       "      <td>0</td>\n",
       "      <td>0</td>\n",
       "      <td>0</td>\n",
       "      <td>0</td>\n",
       "      <td>0</td>\n",
       "      <td>0</td>\n",
       "      <td>0</td>\n",
       "      <td>0</td>\n",
       "      <td>0</td>\n",
       "      <td>0</td>\n",
       "    </tr>\n",
       "  </tbody>\n",
       "</table>\n",
       "<p>12 rows × 64 columns</p>\n",
       "</div>"
      ],
      "text/plain": [
       "    Order  Property Id  DOF Gross Floor Area  Year Built  \\\n",
       "0   13276      5849784               90300.0        1950   \n",
       "1    7377      4398442               52000.0        1926   \n",
       "2    9479      4665374              104700.0        1954   \n",
       "3   14774      3393340              129333.0        1992   \n",
       "4    3286      2704325              109896.0        1927   \n",
       "5    1060      2430725              182655.0        1929   \n",
       "6   10846      5737475               65400.0        1942   \n",
       "7    4280      2670505              113150.0        1938   \n",
       "8   12974      2964670              137700.0        1959   \n",
       "9   13244      4414693               63693.0        1941   \n",
       "10   3903      2669664               82644.0        1922   \n",
       "11   8336      2809354               51317.0        1925   \n",
       "\n",
       "    Number of Buildings - Self-reported  Occupancy  Site EUI (kBtu/ft²)  \\\n",
       "0                                     1        100                126.0   \n",
       "1                                     1        100                 95.4   \n",
       "2                                     1        100                 40.4   \n",
       "3                                     1        100                157.1   \n",
       "4                                     1        100                 62.3   \n",
       "5                                     1         90                 52.9   \n",
       "6                                     1        100                 66.8   \n",
       "7                                     1        100                 78.4   \n",
       "8                                     1        100                 63.0   \n",
       "9                                     1        100                 97.8   \n",
       "10                                    1        100                 55.4   \n",
       "11                                    1        100                118.7   \n",
       "\n",
       "    Weather Normalized Site Electricity Intensity (kWh/ft²)  \\\n",
       "0                                                 5.2         \n",
       "1                                                 4.7         \n",
       "2                                                 3.8         \n",
       "3                                                16.9         \n",
       "4                                                 3.5         \n",
       "5                                                 9.7         \n",
       "6                                                 3.0         \n",
       "7                                                 5.7         \n",
       "8                                                 3.4         \n",
       "9                                                 4.3         \n",
       "10                                                4.5         \n",
       "11                                                3.6         \n",
       "\n",
       "    Weather Normalized Site Natural Gas Intensity (therms/ft²)  \\\n",
       "0                                                 1.2            \n",
       "1                                                 0.9            \n",
       "2                                                 0.3            \n",
       "3                                                 1.1            \n",
       "4                                                 0.0            \n",
       "5                                                 0.2            \n",
       "6                                                 0.6            \n",
       "7                                                 NaN            \n",
       "8                                                 0.5            \n",
       "9                                                 0.8            \n",
       "10                                                0.0            \n",
       "11                                                1.1            \n",
       "\n",
       "    Water Intensity (All Water Sources) (gal/ft²)   Latitude  Longitude  \\\n",
       "0                                           99.41        NaN        NaN   \n",
       "1                                             NaN  40.835496 -73.887745   \n",
       "2                                             NaN  40.663206 -73.949469   \n",
       "3                                             NaN  40.622968 -74.078742   \n",
       "4                                           28.65  40.782421 -73.972622   \n",
       "5                                            4.80  40.725136 -74.004438   \n",
       "6                                           67.14  40.637833 -73.973045   \n",
       "7                                           30.73  40.776035 -73.964418   \n",
       "8                                           41.96        NaN        NaN   \n",
       "9                                           86.88        NaN        NaN   \n",
       "10                                            NaN  40.762510 -73.970085   \n",
       "11                                            NaN  40.849372 -73.832075   \n",
       "\n",
       "    Community Board  Census Tract  \\\n",
       "0               NaN           NaN   \n",
       "1               3.0         161.0   \n",
       "2               9.0         329.0   \n",
       "3               1.0          27.0   \n",
       "4               7.0         165.0   \n",
       "5               2.0          37.0   \n",
       "6              12.0         490.0   \n",
       "7               8.0         142.0   \n",
       "8               NaN           NaN   \n",
       "9               NaN           NaN   \n",
       "10              5.0       11203.0   \n",
       "11             10.0       26601.0   \n",
       "\n",
       "    log_Direct GHG Emissions (Metric Tons CO2e)  \\\n",
       "0                                      6.088818   \n",
       "1                                      5.384036   \n",
       "2                                      5.017280   \n",
       "3                                      6.510853   \n",
       "4                                      6.123589   \n",
       "5                                      5.516649   \n",
       "6                                      5.426271   \n",
       "7                                      6.067036   \n",
       "8                                      6.170447   \n",
       "9                                      5.680855   \n",
       "10                                     1.335001   \n",
       "11                                     5.662960   \n",
       "\n",
       "    log_Water Intensity (All Water Sources) (gal/ft²)  Borough_Staten Island  \\\n",
       "0                                            4.599253                      0   \n",
       "1                                                 NaN                      0   \n",
       "2                                                 NaN                      0   \n",
       "3                                                 NaN                      1   \n",
       "4                                            3.355153                      0   \n",
       "5                                            1.568616                      0   \n",
       "6                                            4.206780                      0   \n",
       "7                                            3.425239                      0   \n",
       "8                                            3.736717                      0   \n",
       "9                                            4.464528                      0   \n",
       "10                                                NaN                      0   \n",
       "11                                                NaN                      0   \n",
       "\n",
       "    Largest Property Use Type_Adult Education  \\\n",
       "0                                           0   \n",
       "1                                           0   \n",
       "2                                           0   \n",
       "3                                           0   \n",
       "4                                           0   \n",
       "5                                           0   \n",
       "6                                           0   \n",
       "7                                           0   \n",
       "8                                           0   \n",
       "9                                           0   \n",
       "10                                          0   \n",
       "11                                          0   \n",
       "\n",
       "    Largest Property Use Type_Automobile Dealership  \\\n",
       "0                                                 0   \n",
       "1                                                 0   \n",
       "2                                                 0   \n",
       "3                                                 0   \n",
       "4                                                 0   \n",
       "5                                                 0   \n",
       "6                                                 0   \n",
       "7                                                 0   \n",
       "8                                                 0   \n",
       "9                                                 0   \n",
       "10                                                0   \n",
       "11                                                0   \n",
       "\n",
       "    Largest Property Use Type_Bank Branch  \\\n",
       "0                                       0   \n",
       "1                                       0   \n",
       "2                                       0   \n",
       "3                                       0   \n",
       "4                                       0   \n",
       "5                                       0   \n",
       "6                                       0   \n",
       "7                                       0   \n",
       "8                                       0   \n",
       "9                                       0   \n",
       "10                                      0   \n",
       "11                                      0   \n",
       "\n",
       "    Largest Property Use Type_College/University  \\\n",
       "0                                              0   \n",
       "1                                              0   \n",
       "2                                              0   \n",
       "3                                              0   \n",
       "4                                              0   \n",
       "5                                              0   \n",
       "6                                              0   \n",
       "7                                              0   \n",
       "8                                              0   \n",
       "9                                              0   \n",
       "10                                             0   \n",
       "11                                             0   \n",
       "\n",
       "    Largest Property Use Type_Convenience Store without Gas Station  \\\n",
       "0                                                   0                 \n",
       "1                                                   0                 \n",
       "2                                                   0                 \n",
       "3                                                   0                 \n",
       "4                                                   0                 \n",
       "5                                                   0                 \n",
       "6                                                   0                 \n",
       "7                                                   0                 \n",
       "8                                                   0                 \n",
       "9                                                   0                 \n",
       "10                                                  0                 \n",
       "11                                                  0                 \n",
       "\n",
       "    Largest Property Use Type_Courthouse  \\\n",
       "0                                      0   \n",
       "1                                      0   \n",
       "2                                      0   \n",
       "3                                      0   \n",
       "4                                      0   \n",
       "5                                      0   \n",
       "6                                      0   \n",
       "7                                      0   \n",
       "8                                      0   \n",
       "9                                      0   \n",
       "10                                     0   \n",
       "11                                     0   \n",
       "\n",
       "    Largest Property Use Type_Distribution Center  \\\n",
       "0                                               0   \n",
       "1                                               0   \n",
       "2                                               0   \n",
       "3                                               0   \n",
       "4                                               0   \n",
       "5                                               0   \n",
       "6                                               0   \n",
       "7                                               0   \n",
       "8                                               0   \n",
       "9                                               0   \n",
       "10                                              0   \n",
       "11                                              0   \n",
       "\n",
       "    Largest Property Use Type_Enclosed Mall  \\\n",
       "0                                         0   \n",
       "1                                         0   \n",
       "2                                         0   \n",
       "3                                         0   \n",
       "4                                         0   \n",
       "5                                         0   \n",
       "6                                         0   \n",
       "7                                         0   \n",
       "8                                         0   \n",
       "9                                         0   \n",
       "10                                        0   \n",
       "11                                        0   \n",
       "\n",
       "    Largest Property Use Type_Financial Office  \\\n",
       "0                                            0   \n",
       "1                                            0   \n",
       "2                                            0   \n",
       "3                                            0   \n",
       "4                                            0   \n",
       "5                                            0   \n",
       "6                                            0   \n",
       "7                                            0   \n",
       "8                                            0   \n",
       "9                                            0   \n",
       "10                                           0   \n",
       "11                                           0   \n",
       "\n",
       "    Largest Property Use Type_Hospital (General Medical & Surgical)  \\\n",
       "0                                                   0                 \n",
       "1                                                   0                 \n",
       "2                                                   0                 \n",
       "3                                                   0                 \n",
       "4                                                   0                 \n",
       "5                                                   0                 \n",
       "6                                                   0                 \n",
       "7                                                   0                 \n",
       "8                                                   0                 \n",
       "9                                                   0                 \n",
       "10                                                  0                 \n",
       "11                                                  0                 \n",
       "\n",
       "    Largest Property Use Type_Hotel  Largest Property Use Type_K-12 School  \\\n",
       "0                                 0                                      0   \n",
       "1                                 0                                      0   \n",
       "2                                 0                                      0   \n",
       "3                                 0                                      0   \n",
       "4                                 0                                      0   \n",
       "5                                 0                                      0   \n",
       "6                                 0                                      0   \n",
       "7                                 0                                      0   \n",
       "8                                 0                                      0   \n",
       "9                                 0                                      0   \n",
       "10                                0                                      0   \n",
       "11                                0                                      0   \n",
       "\n",
       "    Largest Property Use Type_Library  ...  \\\n",
       "0                                   0  ...   \n",
       "1                                   0  ...   \n",
       "2                                   0  ...   \n",
       "3                                   0  ...   \n",
       "4                                   0  ...   \n",
       "5                                   0  ...   \n",
       "6                                   0  ...   \n",
       "7                                   0  ...   \n",
       "8                                   0  ...   \n",
       "9                                   0  ...   \n",
       "10                                  0  ...   \n",
       "11                                  0  ...   \n",
       "\n",
       "    Largest Property Use Type_Multifamily Housing  \\\n",
       "0                                               1   \n",
       "1                                               1   \n",
       "2                                               1   \n",
       "3                                               0   \n",
       "4                                               1   \n",
       "5                                               0   \n",
       "6                                               1   \n",
       "7                                               1   \n",
       "8                                               1   \n",
       "9                                               1   \n",
       "10                                              1   \n",
       "11                                              1   \n",
       "\n",
       "    Largest Property Use Type_Museum  \\\n",
       "0                                  0   \n",
       "1                                  0   \n",
       "2                                  0   \n",
       "3                                  0   \n",
       "4                                  0   \n",
       "5                                  0   \n",
       "6                                  0   \n",
       "7                                  0   \n",
       "8                                  0   \n",
       "9                                  0   \n",
       "10                                 0   \n",
       "11                                 0   \n",
       "\n",
       "    Largest Property Use Type_Non-Refrigerated Warehouse  \\\n",
       "0                                                   0      \n",
       "1                                                   0      \n",
       "2                                                   0      \n",
       "3                                                   0      \n",
       "4                                                   0      \n",
       "5                                                   0      \n",
       "6                                                   0      \n",
       "7                                                   0      \n",
       "8                                                   0      \n",
       "9                                                   0      \n",
       "10                                                  0      \n",
       "11                                                  0      \n",
       "\n",
       "    Largest Property Use Type_Other  \\\n",
       "0                                 0   \n",
       "1                                 0   \n",
       "2                                 0   \n",
       "3                                 0   \n",
       "4                                 0   \n",
       "5                                 0   \n",
       "6                                 0   \n",
       "7                                 0   \n",
       "8                                 0   \n",
       "9                                 0   \n",
       "10                                0   \n",
       "11                                0   \n",
       "\n",
       "    Largest Property Use Type_Other - Education  \\\n",
       "0                                             0   \n",
       "1                                             0   \n",
       "2                                             0   \n",
       "3                                             0   \n",
       "4                                             0   \n",
       "5                                             0   \n",
       "6                                             0   \n",
       "7                                             0   \n",
       "8                                             0   \n",
       "9                                             0   \n",
       "10                                            0   \n",
       "11                                            0   \n",
       "\n",
       "    Largest Property Use Type_Other - Entertainment/Public Assembly  \\\n",
       "0                                                   0                 \n",
       "1                                                   0                 \n",
       "2                                                   0                 \n",
       "3                                                   0                 \n",
       "4                                                   0                 \n",
       "5                                                   0                 \n",
       "6                                                   0                 \n",
       "7                                                   0                 \n",
       "8                                                   0                 \n",
       "9                                                   0                 \n",
       "10                                                  0                 \n",
       "11                                                  0                 \n",
       "\n",
       "    Largest Property Use Type_Other - Lodging/Residential  \\\n",
       "0                                                   0       \n",
       "1                                                   0       \n",
       "2                                                   0       \n",
       "3                                                   0       \n",
       "4                                                   0       \n",
       "5                                                   0       \n",
       "6                                                   0       \n",
       "7                                                   0       \n",
       "8                                                   0       \n",
       "9                                                   0       \n",
       "10                                                  0       \n",
       "11                                                  0       \n",
       "\n",
       "    Largest Property Use Type_Other - Mall  \\\n",
       "0                                        0   \n",
       "1                                        0   \n",
       "2                                        0   \n",
       "3                                        0   \n",
       "4                                        0   \n",
       "5                                        0   \n",
       "6                                        0   \n",
       "7                                        0   \n",
       "8                                        0   \n",
       "9                                        0   \n",
       "10                                       0   \n",
       "11                                       0   \n",
       "\n",
       "    Largest Property Use Type_Other - Public Services  \\\n",
       "0                                                   0   \n",
       "1                                                   0   \n",
       "2                                                   0   \n",
       "3                                                   0   \n",
       "4                                                   0   \n",
       "5                                                   0   \n",
       "6                                                   0   \n",
       "7                                                   0   \n",
       "8                                                   0   \n",
       "9                                                   0   \n",
       "10                                                  0   \n",
       "11                                                  0   \n",
       "\n",
       "    Largest Property Use Type_Other - Recreation  \\\n",
       "0                                              0   \n",
       "1                                              0   \n",
       "2                                              0   \n",
       "3                                              0   \n",
       "4                                              0   \n",
       "5                                              0   \n",
       "6                                              0   \n",
       "7                                              0   \n",
       "8                                              0   \n",
       "9                                              0   \n",
       "10                                             0   \n",
       "11                                             0   \n",
       "\n",
       "    Largest Property Use Type_Other - Services  \\\n",
       "0                                            0   \n",
       "1                                            0   \n",
       "2                                            0   \n",
       "3                                            0   \n",
       "4                                            0   \n",
       "5                                            0   \n",
       "6                                            0   \n",
       "7                                            0   \n",
       "8                                            0   \n",
       "9                                            0   \n",
       "10                                           0   \n",
       "11                                           0   \n",
       "\n",
       "    Largest Property Use Type_Other - Specialty Hospital  \\\n",
       "0                                                   0      \n",
       "1                                                   0      \n",
       "2                                                   0      \n",
       "3                                                   0      \n",
       "4                                                   0      \n",
       "5                                                   0      \n",
       "6                                                   0      \n",
       "7                                                   0      \n",
       "8                                                   0      \n",
       "9                                                   0      \n",
       "10                                                  0      \n",
       "11                                                  0      \n",
       "\n",
       "    Largest Property Use Type_Outpatient Rehabilitation/Physical Therapy  \\\n",
       "0                                                   0                      \n",
       "1                                                   0                      \n",
       "2                                                   0                      \n",
       "3                                                   0                      \n",
       "4                                                   0                      \n",
       "5                                                   0                      \n",
       "6                                                   0                      \n",
       "7                                                   0                      \n",
       "8                                                   0                      \n",
       "9                                                   0                      \n",
       "10                                                  0                      \n",
       "11                                                  0                      \n",
       "\n",
       "    Largest Property Use Type_Parking  \\\n",
       "0                                   0   \n",
       "1                                   0   \n",
       "2                                   0   \n",
       "3                                   0   \n",
       "4                                   0   \n",
       "5                                   0   \n",
       "6                                   0   \n",
       "7                                   0   \n",
       "8                                   0   \n",
       "9                                   0   \n",
       "10                                  0   \n",
       "11                                  0   \n",
       "\n",
       "    Largest Property Use Type_Performing Arts  \\\n",
       "0                                           0   \n",
       "1                                           0   \n",
       "2                                           0   \n",
       "3                                           0   \n",
       "4                                           0   \n",
       "5                                           0   \n",
       "6                                           0   \n",
       "7                                           0   \n",
       "8                                           0   \n",
       "9                                           0   \n",
       "10                                          0   \n",
       "11                                          0   \n",
       "\n",
       "    Largest Property Use Type_Pre-school/Daycare  \\\n",
       "0                                              0   \n",
       "1                                              0   \n",
       "2                                              0   \n",
       "3                                              0   \n",
       "4                                              0   \n",
       "5                                              0   \n",
       "6                                              0   \n",
       "7                                              0   \n",
       "8                                              0   \n",
       "9                                              0   \n",
       "10                                             0   \n",
       "11                                             0   \n",
       "\n",
       "    Largest Property Use Type_Refrigerated Warehouse  \\\n",
       "0                                                  0   \n",
       "1                                                  0   \n",
       "2                                                  0   \n",
       "3                                                  0   \n",
       "4                                                  0   \n",
       "5                                                  0   \n",
       "6                                                  0   \n",
       "7                                                  0   \n",
       "8                                                  0   \n",
       "9                                                  0   \n",
       "10                                                 0   \n",
       "11                                                 0   \n",
       "\n",
       "    Largest Property Use Type_Repair Services (Vehicle, Shoe, Locksmith, etc.)  \\\n",
       "0                                                   0                            \n",
       "1                                                   0                            \n",
       "2                                                   0                            \n",
       "3                                                   0                            \n",
       "4                                                   0                            \n",
       "5                                                   0                            \n",
       "6                                                   0                            \n",
       "7                                                   0                            \n",
       "8                                                   0                            \n",
       "9                                                   0                            \n",
       "10                                                  0                            \n",
       "11                                                  0                            \n",
       "\n",
       "    Largest Property Use Type_Residence Hall/Dormitory  \\\n",
       "0                                                   0    \n",
       "1                                                   0    \n",
       "2                                                   0    \n",
       "3                                                   0    \n",
       "4                                                   0    \n",
       "5                                                   0    \n",
       "6                                                   0    \n",
       "7                                                   0    \n",
       "8                                                   0    \n",
       "9                                                   0    \n",
       "10                                                  0    \n",
       "11                                                  0    \n",
       "\n",
       "    Largest Property Use Type_Residential Care Facility  \\\n",
       "0                                                   0     \n",
       "1                                                   0     \n",
       "2                                                   0     \n",
       "3                                                   0     \n",
       "4                                                   0     \n",
       "5                                                   0     \n",
       "6                                                   0     \n",
       "7                                                   0     \n",
       "8                                                   0     \n",
       "9                                                   0     \n",
       "10                                                  0     \n",
       "11                                                  0     \n",
       "\n",
       "    Largest Property Use Type_Restaurant  \\\n",
       "0                                      0   \n",
       "1                                      0   \n",
       "2                                      0   \n",
       "3                                      0   \n",
       "4                                      0   \n",
       "5                                      0   \n",
       "6                                      0   \n",
       "7                                      0   \n",
       "8                                      0   \n",
       "9                                      0   \n",
       "10                                     0   \n",
       "11                                     0   \n",
       "\n",
       "    Largest Property Use Type_Retail Store  \\\n",
       "0                                        0   \n",
       "1                                        0   \n",
       "2                                        0   \n",
       "3                                        0   \n",
       "4                                        0   \n",
       "5                                        0   \n",
       "6                                        0   \n",
       "7                                        0   \n",
       "8                                        0   \n",
       "9                                        0   \n",
       "10                                       0   \n",
       "11                                       0   \n",
       "\n",
       "    Largest Property Use Type_Self-Storage Facility  \\\n",
       "0                                                 0   \n",
       "1                                                 0   \n",
       "2                                                 0   \n",
       "3                                                 0   \n",
       "4                                                 0   \n",
       "5                                                 0   \n",
       "6                                                 0   \n",
       "7                                                 0   \n",
       "8                                                 0   \n",
       "9                                                 0   \n",
       "10                                                0   \n",
       "11                                                0   \n",
       "\n",
       "    Largest Property Use Type_Senior Care Community  \\\n",
       "0                                                 0   \n",
       "1                                                 0   \n",
       "2                                                 0   \n",
       "3                                                 1   \n",
       "4                                                 0   \n",
       "5                                                 0   \n",
       "6                                                 0   \n",
       "7                                                 0   \n",
       "8                                                 0   \n",
       "9                                                 0   \n",
       "10                                                0   \n",
       "11                                                0   \n",
       "\n",
       "    Largest Property Use Type_Social/Meeting Hall  \\\n",
       "0                                               0   \n",
       "1                                               0   \n",
       "2                                               0   \n",
       "3                                               0   \n",
       "4                                               0   \n",
       "5                                               0   \n",
       "6                                               0   \n",
       "7                                               0   \n",
       "8                                               0   \n",
       "9                                               0   \n",
       "10                                              0   \n",
       "11                                              0   \n",
       "\n",
       "    Largest Property Use Type_Strip Mall  \\\n",
       "0                                      0   \n",
       "1                                      0   \n",
       "2                                      0   \n",
       "3                                      0   \n",
       "4                                      0   \n",
       "5                                      0   \n",
       "6                                      0   \n",
       "7                                      0   \n",
       "8                                      0   \n",
       "9                                      0   \n",
       "10                                     0   \n",
       "11                                     0   \n",
       "\n",
       "    Largest Property Use Type_Supermarket/Grocery Store  \\\n",
       "0                                                   0     \n",
       "1                                                   0     \n",
       "2                                                   0     \n",
       "3                                                   0     \n",
       "4                                                   0     \n",
       "5                                                   0     \n",
       "6                                                   0     \n",
       "7                                                   0     \n",
       "8                                                   0     \n",
       "9                                                   0     \n",
       "10                                                  0     \n",
       "11                                                  0     \n",
       "\n",
       "    Largest Property Use Type_Urgent Care/Clinic/Other Outpatient  \\\n",
       "0                                                   0               \n",
       "1                                                   0               \n",
       "2                                                   0               \n",
       "3                                                   0               \n",
       "4                                                   0               \n",
       "5                                                   0               \n",
       "6                                                   0               \n",
       "7                                                   0               \n",
       "8                                                   0               \n",
       "9                                                   0               \n",
       "10                                                  0               \n",
       "11                                                  0               \n",
       "\n",
       "    Largest Property Use Type_Wholesale Club/Supercenter  \\\n",
       "0                                                   0      \n",
       "1                                                   0      \n",
       "2                                                   0      \n",
       "3                                                   0      \n",
       "4                                                   0      \n",
       "5                                                   0      \n",
       "6                                                   0      \n",
       "7                                                   0      \n",
       "8                                                   0      \n",
       "9                                                   0      \n",
       "10                                                  0      \n",
       "11                                                  0      \n",
       "\n",
       "    Largest Property Use Type_Worship Facility  \n",
       "0                                            0  \n",
       "1                                            0  \n",
       "2                                            0  \n",
       "3                                            0  \n",
       "4                                            0  \n",
       "5                                            0  \n",
       "6                                            0  \n",
       "7                                            0  \n",
       "8                                            0  \n",
       "9                                            0  \n",
       "10                                           0  \n",
       "11                                           0  \n",
       "\n",
       "[12 rows x 64 columns]"
      ]
     },
     "execution_count": 6,
     "metadata": {
      "tags": []
     },
     "output_type": "execute_result"
    }
   ],
   "source": [
    "train_features.head(12)"
   ]
  },
  {
   "cell_type": "markdown",
   "metadata": {
    "colab_type": "text",
    "id": "pS209z2YA43B"
   },
   "source": [
    "The `score` column contains the Energy Star Score, the target for our machine learning problem. The Energy Star Score is supposed to be a comparitive measurement of the energy efficiency of a building, although we saw there may be issues with how this is calculated in part one! \n",
    "\n",
    "Here's the distribution of the Energy Star Score."
   ]
  },
  {
   "cell_type": "code",
   "execution_count": 7,
   "metadata": {
    "colab": {
     "base_uri": "https://localhost:8080/",
     "height": 564
    },
    "colab_type": "code",
    "executionInfo": {
     "elapsed": 2620,
     "status": "ok",
     "timestamp": 1583772772858,
     "user": {
      "displayName": "Sayan Dey",
      "photoUrl": "https://lh3.googleusercontent.com/a-/AOh14GhGdAaAMDWFJQH8pl6eFDU9flchgFMbU_GzEBhtcC8=s64",
      "userId": "03603580465490055794"
     },
     "user_tz": -330
    },
    "id": "O_SvFVrrA43C",
    "outputId": "f438741d-1d1e-4e8a-c5d6-225e334f3303"
   },
   "outputs": [
    {
     "data": {
      "image/png": "[encoded data removed]",
      "text/plain": [
       "<Figure size 576x576 with 1 Axes>"
      ]
     },
     "metadata": {
      "tags": []
     },
     "output_type": "display_data"
    }
   ],
   "source": [
    "figsize(8, 8)\n",
    "\n",
    "# Histogram of the Energy Star Score\n",
    "plt.style.use('fivethirtyeight')\n",
    "plt.hist(train_labels['score'].dropna(), bins = 100);\n",
    "plt.xlabel('Score'); plt.ylabel('Number of Buildings'); \n",
    "plt.title('ENERGY Star Score Distribution');"
   ]
  },
  {
   "cell_type": "markdown",
   "metadata": {
    "colab_type": "text",
    "id": "3pQ4O41KA43F"
   },
   "source": [
    "# Evaluating and Comparing Machine Learning Models\n",
    "\n",
    "In this section we will build, train, and evalute several machine learning methods for our supervised regression task. The objective is to determine which model holds the most promise for further development (such as hyperparameter tuning). \n",
    "\n",
    "We are comparing models using the __mean absolute error__. A baseline model that guessed the median value of the score was off by an __average of 25 points__. "
   ]
  },
  {
   "cell_type": "markdown",
   "metadata": {
    "colab_type": "text",
    "id": "YAc4kMw5A43G"
   },
   "source": [
    "## Imputing Missing Values"
   ]
  },
  {
   "cell_type": "markdown",
   "metadata": {
    "colab_type": "text",
    "id": "7wt51NeHA43H"
   },
   "source": [
    "Standard machine learning models cannot deal with missing values, and which means we have to find a way to fill these in or disard any features with missing values. Since we already removed features with more than 50% missing values in the first part, here we will focus on filling in these missing values, a process known as [imputation](https://en.wikipedia.org/wiki/Imputation_(statistics)). There are a number of methods for imputation but here we will use the relatively simple method of replacing missing values with the median of the column. ([Here is a more thorough discussion on imputing missing values](http://www.stat.columbia.edu/~gelman/arm/missing.pdf))\n",
    "\n",
    "In the code below, we create a [Scikit-learn `Imputer` object](http://scikit-learn.org/stable/modules/generated/sklearn.preprocessing.Imputer.html) to fill in missing values with the median of the column. Notice that we train the imputer (using the `Imputer.fit` method) on the training data but not the testing data. We then transform (using `Imputer.transform`) both the training data and testing data. This means that the missing values in the testing set are filled in with the median value of the corresponding columns in the training set. [We have to do it this way](https://stackoverflow.com/a/46692001) rather than because at deployment time, we will have to impute the missing values in new observations based on the previous training data. This is one way to avoid the problem known as [data leakage](https://www.kaggle.com/dansbecker/data-leakage) where information from the testing set \"leaks\" into the training process."
   ]
  },
  {
   "cell_type": "code",
   "execution_count": 0,
   "metadata": {
    "colab": {},
    "colab_type": "code",
    "id": "Y2px36HRwBL-"
   },
   "outputs": [],
   "source": [
    "#!pip install impyute\n",
    "from impyute.imputation.cs import mice\n",
    "from sklearn.ensemble import RandomForestRegressor,GradientBoostingRegressor"
   ]
  },
  {
   "cell_type": "code",
   "execution_count": 9,
   "metadata": {
    "colab": {
     "base_uri": "https://localhost:8080/",
     "height": 50
    },
    "colab_type": "code",
    "executionInfo": {
     "elapsed": 81806,
     "status": "ok",
     "timestamp": 1583772853385,
     "user": {
      "displayName": "Sayan Dey",
      "photoUrl": "https://lh3.googleusercontent.com/a-/AOh14GhGdAaAMDWFJQH8pl6eFDU9flchgFMbU_GzEBhtcC8=s64",
      "userId": "03603580465490055794"
     },
     "user_tz": -330
    },
    "id": "fDqpuuyS1fll",
    "outputId": "bff28f0a-8ac9-4556-cf82-85650375e85b"
   },
   "outputs": [
    {
     "name": "stderr",
     "output_type": "stream",
     "text": [
      "/usr/local/lib/python3.6/dist-packages/sklearn/impute/_iterative.py:599: ConvergenceWarning: [IterativeImputer] Early stopping criterion not reached.\n",
      "  \" reached.\", ConvergenceWarning)\n"
     ]
    }
   ],
   "source": [
    "imputer = IterativeImputer(GradientBoostingRegressor())\n",
    "# Train on the training features\n",
    "imputer.fit(train_features)\n",
    "\n",
    "# Transform both training data and testing data\n",
    "X = imputer.transform(train_features)\n",
    "X_test = imputer.transform(test_features)"
   ]
  },
  {
   "cell_type": "code",
   "execution_count": 0,
   "metadata": {
    "colab": {},
    "colab_type": "code",
    "id": "Vk5zYCmEA43H"
   },
   "outputs": [],
   "source": [
    "# Create an imputer object with a median filling strategy\n",
    "#imputer = Imputer(strategy='median')\n",
    "\n",
    "# Train on the training features\n",
    "#imputer.fit(train_features)\n",
    "\n",
    "# Transform both training data and testing data\n",
    "#X = imputer.transform(train_features)\n",
    "#X_test = imputer.transform(test_features)"
   ]
  },
  {
   "cell_type": "code",
   "execution_count": 12,
   "metadata": {
    "colab": {
     "base_uri": "https://localhost:8080/",
     "height": 50
    },
    "colab_type": "code",
    "executionInfo": {
     "elapsed": 1344,
     "status": "ok",
     "timestamp": 1583772899581,
     "user": {
      "displayName": "Sayan Dey",
      "photoUrl": "https://lh3.googleusercontent.com/a-/AOh14GhGdAaAMDWFJQH8pl6eFDU9flchgFMbU_GzEBhtcC8=s64",
      "userId": "03603580465490055794"
     },
     "user_tz": -330
    },
    "id": "PKJlzTqCA43K",
    "outputId": "b470a9ce-a3db-4eaf-a85a-3ea5d3112bab"
   },
   "outputs": [
    {
     "name": "stdout",
     "output_type": "stream",
     "text": [
      "Missing values in training features:  0\n",
      "Missing values in testing features:   0\n"
     ]
    }
   ],
   "source": [
    "print('Missing values in training features: ', np.sum(np.isnan(X)))\n",
    "print('Missing values in testing features:  ', np.sum(np.isnan(X_test)))"
   ]
  },
  {
   "cell_type": "code",
   "execution_count": 13,
   "metadata": {
    "colab": {
     "base_uri": "https://localhost:8080/",
     "height": 50
    },
    "colab_type": "code",
    "executionInfo": {
     "elapsed": 972,
     "status": "ok",
     "timestamp": 1583772899584,
     "user": {
      "displayName": "Sayan Dey",
      "photoUrl": "https://lh3.googleusercontent.com/a-/AOh14GhGdAaAMDWFJQH8pl6eFDU9flchgFMbU_GzEBhtcC8=s64",
      "userId": "03603580465490055794"
     },
     "user_tz": -330
    },
    "id": "Pvt2dSQ0A43M",
    "outputId": "85e277bf-6d3c-415d-9b54-27c0896dcbd2"
   },
   "outputs": [
    {
     "name": "stdout",
     "output_type": "stream",
     "text": [
      "(array([], dtype=int64), array([], dtype=int64))\n",
      "(array([], dtype=int64), array([], dtype=int64))\n"
     ]
    }
   ],
   "source": [
    "# Make sure all values are finite\n",
    "print(np.where(~np.isfinite(X)))\n",
    "print(np.where(~np.isfinite(X_test)))"
   ]
  },
  {
   "cell_type": "markdown",
   "metadata": {
    "colab_type": "text",
    "id": "lkmcbd1dA43O"
   },
   "source": [
    "After imputation, all of the features are real-valued. For more sophisticated methods of imputation (although median values usually works well) check out [this article](https://www.tandfonline.com/doi/full/10.1080/1743727X.2014.979146)"
   ]
  },
  {
   "cell_type": "markdown",
   "metadata": {
    "colab_type": "text",
    "id": "MyGff5b1A43O"
   },
   "source": [
    "### Scaling Features\n",
    "\n",
    "The final step to take before we can build our models is to [scale the features](https://en.wikipedia.org/wiki/Feature_scaling). This is necessary because features are in different units, and we want to normalize the features so the units do not affect the algorithm. [Linear Regression and Random Forest do not require feature scaling](https://stats.stackexchange.com/questions/121886/when-should-i-apply-feature-scaling-for-my-data), but other methods, such as support vector machines and k nearest neighbors, do require it because they take into account the Euclidean distance between observations. For this reason, it is a best practice to scale features when we are comparing multiple algorithms. \n",
    "\n",
    "There are two ways to [scale features](http://scikit-learn.org/stable/auto_examples/preprocessing/plot_scaling_importance.html):\n",
    "\n",
    "1. For each value, subtract the mean of the feature and divide by the standard deviation of the feature. This is known as standardization and results in each feature having a mean of 0 and a standard deviation of 1.\n",
    "2. For each value, subtract the minimum value of the feature and divide by the maximum minus the minimum for the feature (the range). This assures that all the values for a feature are between 0 and 1 and is called scaling to a range or normalization.\n",
    "\n",
    "Here is a good article about [normalization and standardization](https://machinelearningmastery.com/normalize-standardize-machine-learning-data-weka/).\n",
    "\n",
    "As with imputation, when we train the scaling object, we want to use only the training set. When we transform features, we will transform both the training set and the testing set."
   ]
  },
  {
   "cell_type": "code",
   "execution_count": 0,
   "metadata": {
    "colab": {},
    "colab_type": "code",
    "id": "Vutd1W6aA43P"
   },
   "outputs": [],
   "source": [
    "# Create the scaler object with a range of 0-1\n",
    "#scaler = MinMaxScaler(feature_range=(0, 1))\n",
    "from sklearn.preprocessing import StandardScaler\n",
    "scaler = MinMaxScaler()\n",
    "# Fit on the training data\n",
    "scaler.fit(X)\n",
    "\n",
    "# Transform both the training and testing data\n",
    "X = scaler.transform(X)\n",
    "X_test = scaler.transform(X_test)"
   ]
  },
  {
   "cell_type": "code",
   "execution_count": 0,
   "metadata": {
    "colab": {},
    "colab_type": "code",
    "id": "gEmGCMs3A43R"
   },
   "outputs": [],
   "source": [
    "# Convert y to one-dimensional array (vector)\n",
    "y = np.array(train_labels).reshape((-1, ))\n",
    "y_test = np.array(test_labels).reshape((-1, ))"
   ]
  },
  {
   "cell_type": "markdown",
   "metadata": {
    "colab_type": "text",
    "id": "UGpBDF1-A43S"
   },
   "source": [
    "## Models to Evaluate\n",
    "\n",
    "We will compare five different machine learning models using the great [Scikit-Learn library](http://scikit-learn.org/stable/):\n",
    "\n",
    "1. Linear Regression\n",
    "2. Support Vector Machine Regression\n",
    "3. Random Forest Regression\n",
    "4. Gradient Boosting Regression\n",
    "5. K-Nearest Neighbors Regression\n",
    "\n",
    "Again, here I'm focusing on implementation rather than explaining how these work. In addition to Hands-On Machine Learning, another great resource (this one is free online) for reading about machine learning models is [An Introduction to Statistical Learning](http://www-bcf.usc.edu/~gareth/ISL/).\n",
    "\n",
    "To compare the models, we are going to be mostly using the Scikit-Learn defaults for the model hyperparameters. Generally these will perform decently, but should be optimized before actually using a model. At first, we just want to determine the baseline performance of each model, and then we can select the best performing model for further optimization using hyperparameter tuning. Remember that the default hyperparameters will get a model up and running, but nearly always should be adjusted using some sort of search to find the best settings for your problem! \n",
    "\n",
    "Here is what the Scikit-learn documentation [says about the defaults](https://arxiv.org/abs/1309.0238):\n",
    "\n",
    "    __Sensible defaults__: Whenever an operation requires a user-defined parameter,\n",
    "    an appropriate default value is defined by the library. The default value\n",
    "    should cause the operation to be performed in a sensible way (giving a baseline\n",
    "    solution for the task at hand.)\n",
    "\n",
    "One of the best parts about scikit-learn is that all models are implemented in an identical manner: once you know how to build one, you can implement an extremely diverse array of models. Here we will implement the entire training and testing procedures for a number of models in just a few lines of code."
   ]
  },
  {
   "cell_type": "code",
   "execution_count": 0,
   "metadata": {
    "colab": {},
    "colab_type": "code",
    "id": "lhmAamYbA43T"
   },
   "outputs": [],
   "source": [
    "# Function to calculate mean absolute error\n",
    "def mae(y_true, y_pred):\n",
    "    return np.mean(abs(y_true - y_pred))\n",
    "\n",
    "# Takes in a model, trains the model, and evaluates the model on the test set\n",
    "def fit_and_evaluate(model):\n",
    "    \n",
    "    # Train the model\n",
    "    model.fit(X, y)\n",
    "    \n",
    "    # Make predictions and evalute\n",
    "    model_pred = model.predict(X_test)\n",
    "    model_mae = mae(y_test, model_pred)\n",
    "    \n",
    "    # Return the performance metric\n",
    "    return model_mae"
   ]
  },
  {
   "cell_type": "code",
   "execution_count": 0,
   "metadata": {
    "colab": {
     "base_uri": "https://localhost:8080/",
     "height": 34
    },
    "colab_type": "code",
    "executionInfo": {
     "elapsed": 1212,
     "status": "ok",
     "timestamp": 1583769274085,
     "user": {
      "displayName": "Sayan Dey",
      "photoUrl": "https://lh3.googleusercontent.com/a-/AOh14GhGdAaAMDWFJQH8pl6eFDU9flchgFMbU_GzEBhtcC8=s64",
      "userId": "03603580465490055794"
     },
     "user_tz": -330
    },
    "id": "mq-C7r7FA43V",
    "outputId": "ba4df666-f6b4-4021-92e6-8e3f89f0bfb3"
   },
   "outputs": [
    {
     "name": "stdout",
     "output_type": "stream",
     "text": [
      "Linear Regression Performance on the test set: MAE = 13.3540\n"
     ]
    }
   ],
   "source": [
    "lr = LinearRegression()\n",
    "lr_mae = fit_and_evaluate(lr)\n",
    "print('Linear Regression Performance on the test set: MAE = %0.4f' % lr_mae)\n"
   ]
  },
  {
   "cell_type": "code",
   "execution_count": 0,
   "metadata": {
    "colab": {
     "base_uri": "https://localhost:8080/",
     "height": 138
    },
    "colab_type": "code",
    "executionInfo": {
     "elapsed": 1873,
     "status": "ok",
     "timestamp": 1583769277559,
     "user": {
      "displayName": "Sayan Dey",
      "photoUrl": "https://lh3.googleusercontent.com/a-/AOh14GhGdAaAMDWFJQH8pl6eFDU9flchgFMbU_GzEBhtcC8=s64",
      "userId": "03603580465490055794"
     },
     "user_tz": -330
    },
    "id": "b7kxTiqoDUTE",
    "outputId": "8f232620-f463-4d5e-ce74-7e1eb6a57592"
   },
   "outputs": [
    {
     "name": "stdout",
     "output_type": "stream",
     "text": [
      "Linear Regression\n",
      "[0.66981872 0.66336057 0.69110031 0.69859554 0.69366703 0.66469962\n",
      " 0.57433895 0.69351299 0.61203049 0.67984827]\n",
      "Bias Errors (1-Accuracy/R2)\n",
      "0.3359027504632903\n",
      "Variance Errors\n",
      "0.0014708190059782302\n"
     ]
    }
   ],
   "source": [
    "from sklearn.model_selection import cross_val_score\n",
    "scoreslr = cross_val_score(lr, X, y, cv=10)\n",
    "print(\"Linear Regression\")\n",
    "print(scoreslr)\n",
    "#Bias Variance Error Calculation\n",
    "print(\"Bias Errors (1-Accuracy/R2)\")\n",
    "print(1-np.mean(scoreslr))\n",
    "print(\"Variance Errors\")\n",
    "print(np.var(scoreslr))"
   ]
  },
  {
   "cell_type": "code",
   "execution_count": 0,
   "metadata": {
    "colab": {
     "base_uri": "https://localhost:8080/",
     "height": 34
    },
    "colab_type": "code",
    "executionInfo": {
     "elapsed": 10729,
     "status": "ok",
     "timestamp": 1583769291682,
     "user": {
      "displayName": "Sayan Dey",
      "photoUrl": "https://lh3.googleusercontent.com/a-/AOh14GhGdAaAMDWFJQH8pl6eFDU9flchgFMbU_GzEBhtcC8=s64",
      "userId": "03603580465490055794"
     },
     "user_tz": -330
    },
    "id": "3AKOJezaA43X",
    "outputId": "67ac084e-4fab-4f24-b8e8-ddd4ca585016"
   },
   "outputs": [
    {
     "name": "stdout",
     "output_type": "stream",
     "text": [
      "Support Vector Machine Regression Performance on the test set: MAE = 10.8557\n"
     ]
    }
   ],
   "source": [
    "svm = SVR(C = 1000, gamma = 0.1)\n",
    "svm_mae = fit_and_evaluate(svm)\n",
    "\n",
    "print('Support Vector Machine Regression Performance on the test set: MAE = %0.4f' % svm_mae)"
   ]
  },
  {
   "cell_type": "code",
   "execution_count": 0,
   "metadata": {
    "colab": {
     "base_uri": "https://localhost:8080/",
     "height": 1000
    },
    "colab_type": "code",
    "executionInfo": {
     "elapsed": 382539,
     "status": "ok",
     "timestamp": 1583768128974,
     "user": {
      "displayName": "Sayan Dey",
      "photoUrl": "https://lh3.googleusercontent.com/a-/AOh14GhGdAaAMDWFJQH8pl6eFDU9flchgFMbU_GzEBhtcC8=s64",
      "userId": "03603580465490055794"
     },
     "user_tz": -330
    },
    "id": "M3C6dWPIFkBz",
    "outputId": "0a5a44fd-4bbc-4d8f-c48d-fccc197df5d1"
   },
   "outputs": [
    {
     "name": "stderr",
     "output_type": "stream",
     "text": [
      "/usr/local/lib/python3.6/dist-packages/sklearn/model_selection/_split.py:1978: FutureWarning: The default value of cv will change from 3 to 5 in version 0.22. Specify it explicitly to silence this warning.\n",
      "  warnings.warn(CV_WARNING, FutureWarning)\n",
      "[Parallel(n_jobs=1)]: Using backend SequentialBackend with 1 concurrent workers.\n"
     ]
    },
    {
     "name": "stdout",
     "output_type": "stream",
     "text": [
      "Fitting 3 folds for each of 10 candidates, totalling 30 fits\n",
      "[CV] C=128.68124437884842, gamma=5.324708991915511 ...................\n",
      "[CV]  C=128.68124437884842, gamma=5.324708991915511, score=0.756, total=   7.3s\n",
      "[CV] C=128.68124437884842, gamma=5.324708991915511 ...................\n"
     ]
    },
    {
     "name": "stderr",
     "output_type": "stream",
     "text": [
      "[Parallel(n_jobs=1)]: Done   1 out of   1 | elapsed:    7.3s remaining:    0.0s\n"
     ]
    },
    {
     "name": "stdout",
     "output_type": "stream",
     "text": [
      "[CV]  C=128.68124437884842, gamma=5.324708991915511, score=0.763, total=   7.0s\n",
      "[CV] C=128.68124437884842, gamma=5.324708991915511 ...................\n"
     ]
    },
    {
     "name": "stderr",
     "output_type": "stream",
     "text": [
      "[Parallel(n_jobs=1)]: Done   2 out of   2 | elapsed:   14.3s remaining:    0.0s\n"
     ]
    },
    {
     "name": "stdout",
     "output_type": "stream",
     "text": [
      "[CV]  C=128.68124437884842, gamma=5.324708991915511, score=0.757, total=   6.9s\n",
      "[CV] C=461.94144346527656, gamma=2.0600972374662416 ..................\n",
      "[CV]  C=461.94144346527656, gamma=2.0600972374662416, score=0.763, total=  10.3s\n",
      "[CV] C=461.94144346527656, gamma=2.0600972374662416 ..................\n",
      "[CV]  C=461.94144346527656, gamma=2.0600972374662416, score=0.777, total=  10.4s\n",
      "[CV] C=461.94144346527656, gamma=2.0600972374662416 ..................\n",
      "[CV]  C=461.94144346527656, gamma=2.0600972374662416, score=0.768, total=  10.5s\n",
      "[CV] C=664.7713849662997, gamma=7.271534388553099 ....................\n",
      "[CV]  C=664.7713849662997, gamma=7.271534388553099, score=0.707, total=  19.7s\n",
      "[CV] C=664.7713849662997, gamma=7.271534388553099 ....................\n",
      "[CV]  C=664.7713849662997, gamma=7.271534388553099, score=0.707, total=  20.1s\n",
      "[CV] C=664.7713849662997, gamma=7.271534388553099 ....................\n",
      "[CV]  C=664.7713849662997, gamma=7.271534388553099, score=0.683, total=  19.5s\n",
      "[CV] C=930.7191317429669, gamma=6.699117471270725 ....................\n",
      "[CV]  C=930.7191317429669, gamma=6.699117471270725, score=0.699, total=  24.5s\n",
      "[CV] C=930.7191317429669, gamma=6.699117471270725 ....................\n",
      "[CV]  C=930.7191317429669, gamma=6.699117471270725, score=0.698, total=  24.6s\n",
      "[CV] C=930.7191317429669, gamma=6.699117471270725 ....................\n",
      "[CV]  C=930.7191317429669, gamma=6.699117471270725, score=0.673, total=  24.8s\n",
      "[CV] C=434.3226179772687, gamma=7.343058621889876 ....................\n",
      "[CV]  C=434.3226179772687, gamma=7.343058621889876, score=0.719, total=  14.6s\n",
      "[CV] C=434.3226179772687, gamma=7.343058621889876 ....................\n",
      "[CV]  C=434.3226179772687, gamma=7.343058621889876, score=0.722, total=  15.1s\n",
      "[CV] C=434.3226179772687, gamma=7.343058621889876 ....................\n",
      "[CV]  C=434.3226179772687, gamma=7.343058621889876, score=0.702, total=  14.8s\n",
      "[CV] C=38.38624813368151, gamma=4.725868524024168 ....................\n",
      "[CV]  C=38.38624813368151, gamma=4.725868524024168, score=0.760, total=   4.5s\n",
      "[CV] C=38.38624813368151, gamma=4.725868524024168 ....................\n",
      "[CV]  C=38.38624813368151, gamma=4.725868524024168, score=0.773, total=   4.5s\n",
      "[CV] C=38.38624813368151, gamma=4.725868524024168 ....................\n",
      "[CV]  C=38.38624813368151, gamma=4.725868524024168, score=0.766, total=   4.4s\n",
      "[CV] C=21.85662527677689, gamma=8.399316428684712 ....................\n",
      "[CV]  C=21.85662527677689, gamma=8.399316428684712, score=0.740, total=   4.3s\n",
      "[CV] C=21.85662527677689, gamma=8.399316428684712 ....................\n",
      "[CV]  C=21.85662527677689, gamma=8.399316428684712, score=0.750, total=   4.3s\n",
      "[CV] C=21.85662527677689, gamma=8.399316428684712 ....................\n",
      "[CV]  C=21.85662527677689, gamma=8.399316428684712, score=0.740, total=   4.2s\n",
      "[CV] C=190.43786620255952, gamma=4.423965902070824 ...................\n",
      "[CV]  C=190.43786620255952, gamma=4.423965902070824, score=0.758, total=   8.4s\n",
      "[CV] C=190.43786620255952, gamma=4.423965902070824 ...................\n",
      "[CV]  C=190.43786620255952, gamma=4.423965902070824, score=0.765, total=   9.1s\n",
      "[CV] C=190.43786620255952, gamma=4.423965902070824 ...................\n",
      "[CV]  C=190.43786620255952, gamma=4.423965902070824, score=0.760, total=   7.9s\n",
      "[CV] C=627.974326766532, gamma=3.1981664526176936 ....................\n",
      "[CV]  C=627.974326766532, gamma=3.1981664526176936, score=0.747, total=  15.8s\n",
      "[CV] C=627.974326766532, gamma=3.1981664526176936 ....................\n",
      "[CV]  C=627.974326766532, gamma=3.1981664526176936, score=0.755, total=  16.1s\n",
      "[CV] C=627.974326766532, gamma=3.1981664526176936 ....................\n",
      "[CV]  C=627.974326766532, gamma=3.1981664526176936, score=0.751, total=  14.9s\n",
      "[CV] C=225.59253142580138, gamma=6.817649311105883 ...................\n",
      "[CV]  C=225.59253142580138, gamma=6.817649311105883, score=0.737, total=   9.7s\n",
      "[CV] C=225.59253142580138, gamma=6.817649311105883 ...................\n",
      "[CV]  C=225.59253142580138, gamma=6.817649311105883, score=0.742, total=  10.5s\n",
      "[CV] C=225.59253142580138, gamma=6.817649311105883 ...................\n",
      "[CV]  C=225.59253142580138, gamma=6.817649311105883, score=0.732, total=   9.9s\n"
     ]
    },
    {
     "name": "stderr",
     "output_type": "stream",
     "text": [
      "[Parallel(n_jobs=1)]: Done  30 out of  30 | elapsed:  6.0min finished\n"
     ]
    },
    {
     "data": {
      "text/plain": [
       "RandomizedSearchCV(cv='warn', error_score='raise-deprecating',\n",
       "                   estimator=SVR(C=1.0, cache_size=200, coef0=0.0, degree=3,\n",
       "                                 epsilon=0.1, gamma='auto_deprecated',\n",
       "                                 kernel='rbf', max_iter=-1, shrinking=True,\n",
       "                                 tol=0.001, verbose=False),\n",
       "                   iid='warn', n_iter=10, n_jobs=None,\n",
       "                   param_distributions={'C': <scipy.stats._distn_infrastructure.rv_frozen object at 0x7f195be9acc0>,\n",
       "                                        'gamma': <scipy.stats._distn_infrastructure.rv_frozen object at 0x7f195be9aba8>},\n",
       "                   pre_dispatch='2*n_jobs', random_state=None, refit=True,\n",
       "                   return_train_score=False, scoring=None, verbose=3)"
      ]
     },
     "execution_count": 61,
     "metadata": {
      "tags": []
     },
     "output_type": "execute_result"
    }
   ],
   "source": [
    "from sklearn.model_selection import RandomizedSearchCV \n",
    "import scipy.stats as stats\n",
    "  \n",
    "# defining parameter range \n",
    "param_grid = {\"C\": stats.uniform(10, 1000),\n",
    "             \"gamma\": stats.uniform(0.1, 10)} \n",
    "  \n",
    "grid = RandomizedSearchCV(SVR(), param_grid, verbose = 3) \n",
    "  \n",
    "# fitting the model for grid search \n",
    "grid.fit(X, y) "
   ]
  },
  {
   "cell_type": "code",
   "execution_count": 0,
   "metadata": {
    "colab": {
     "base_uri": "https://localhost:8080/",
     "height": 34
    },
    "colab_type": "code",
    "executionInfo": {
     "elapsed": 1212,
     "status": "ok",
     "timestamp": 1583768135593,
     "user": {
      "displayName": "Sayan Dey",
      "photoUrl": "https://lh3.googleusercontent.com/a-/AOh14GhGdAaAMDWFJQH8pl6eFDU9flchgFMbU_GzEBhtcC8=s64",
      "userId": "03603580465490055794"
     },
     "user_tz": -330
    },
    "id": "e4bZh6tYF5Vg",
    "outputId": "23948a27-ad5c-4ae8-8e77-b55de9031ccd"
   },
   "outputs": [
    {
     "data": {
      "text/plain": [
       "{'C': 461.94144346527656, 'gamma': 2.0600972374662416}"
      ]
     },
     "execution_count": 62,
     "metadata": {
      "tags": []
     },
     "output_type": "execute_result"
    }
   ],
   "source": [
    "grid.best_params_"
   ]
  },
  {
   "cell_type": "code",
   "execution_count": 0,
   "metadata": {
    "colab": {
     "base_uri": "https://localhost:8080/",
     "height": 34
    },
    "colab_type": "code",
    "executionInfo": {
     "elapsed": 796,
     "status": "ok",
     "timestamp": 1583768137855,
     "user": {
      "displayName": "Sayan Dey",
      "photoUrl": "https://lh3.googleusercontent.com/a-/AOh14GhGdAaAMDWFJQH8pl6eFDU9flchgFMbU_GzEBhtcC8=s64",
      "userId": "03603580465490055794"
     },
     "user_tz": -330
    },
    "id": "huGZPz8_F9Oy",
    "outputId": "33065f69-a17f-4aac-b7b1-a1ae88969a57"
   },
   "outputs": [
    {
     "data": {
      "text/plain": [
       "0.7690592664848905"
      ]
     },
     "execution_count": 63,
     "metadata": {
      "tags": []
     },
     "output_type": "execute_result"
    }
   ],
   "source": [
    "grid.best_score_"
   ]
  },
  {
   "cell_type": "code",
   "execution_count": 0,
   "metadata": {
    "colab": {
     "base_uri": "https://localhost:8080/",
     "height": 826
    },
    "colab_type": "code",
    "executionInfo": {
     "elapsed": 1270,
     "status": "ok",
     "timestamp": 1583768143806,
     "user": {
      "displayName": "Sayan Dey",
      "photoUrl": "https://lh3.googleusercontent.com/a-/AOh14GhGdAaAMDWFJQH8pl6eFDU9flchgFMbU_GzEBhtcC8=s64",
      "userId": "03603580465490055794"
     },
     "user_tz": -330
    },
    "id": "-PGB2F8JF_Ia",
    "outputId": "3cecb0b6-4f38-4751-b410-a161e3e30f0c"
   },
   "outputs": [
    {
     "data": {
      "text/plain": [
       "{'mean_fit_time': array([ 6.05785632,  9.38947296, 18.75084408, 23.64878233, 13.81872193,\n",
       "         3.48138626,  3.2687451 ,  7.46754122, 14.59064849,  9.05343596]),\n",
       " 'mean_score_time': array([1.01547718, 1.01477973, 1.00930929, 0.9949518 , 0.99113703,\n",
       "        1.00206852, 1.00240938, 0.99756034, 1.01512353, 1.00253542]),\n",
       " 'mean_test_score': array([0.75873236, 0.76905927, 0.69903162, 0.69024077, 0.71434111,\n",
       "        0.76667352, 0.74325233, 0.76078971, 0.75109543, 0.73717805]),\n",
       " 'param_C': masked_array(data=[128.68124437884842, 461.94144346527656,\n",
       "                    664.7713849662997, 930.7191317429669,\n",
       "                    434.3226179772687, 38.38624813368151,\n",
       "                    21.85662527677689, 190.43786620255952,\n",
       "                    627.974326766532, 225.59253142580138],\n",
       "              mask=[False, False, False, False, False, False, False, False,\n",
       "                    False, False],\n",
       "        fill_value='?',\n",
       "             dtype=object),\n",
       " 'param_gamma': masked_array(data=[5.324708991915511, 2.0600972374662416,\n",
       "                    7.271534388553099, 6.699117471270725,\n",
       "                    7.343058621889876, 4.725868524024168,\n",
       "                    8.399316428684712, 4.423965902070824,\n",
       "                    3.1981664526176936, 6.817649311105883],\n",
       "              mask=[False, False, False, False, False, False, False, False,\n",
       "                    False, False],\n",
       "        fill_value='?',\n",
       "             dtype=object),\n",
       " 'params': [{'C': 128.68124437884842, 'gamma': 5.324708991915511},\n",
       "  {'C': 461.94144346527656, 'gamma': 2.0600972374662416},\n",
       "  {'C': 664.7713849662997, 'gamma': 7.271534388553099},\n",
       "  {'C': 930.7191317429669, 'gamma': 6.699117471270725},\n",
       "  {'C': 434.3226179772687, 'gamma': 7.343058621889876},\n",
       "  {'C': 38.38624813368151, 'gamma': 4.725868524024168},\n",
       "  {'C': 21.85662527677689, 'gamma': 8.399316428684712},\n",
       "  {'C': 190.43786620255952, 'gamma': 4.423965902070824},\n",
       "  {'C': 627.974326766532, 'gamma': 3.1981664526176936},\n",
       "  {'C': 225.59253142580138, 'gamma': 6.817649311105883}],\n",
       " 'rank_test_score': array([ 4,  1,  9, 10,  8,  2,  6,  3,  5,  7], dtype=int32),\n",
       " 'split0_test_score': array([0.75626161, 0.76286994, 0.70705274, 0.69928935, 0.71913564,\n",
       "        0.76047691, 0.73972708, 0.75786114, 0.74718122, 0.73714187]),\n",
       " 'split1_test_score': array([0.76261252, 0.77680829, 0.70666446, 0.69830232, 0.721822  ,\n",
       "        0.77341004, 0.74962421, 0.76485236, 0.75549759, 0.74203193]),\n",
       " 'split2_test_score': array([0.75732407, 0.76750237, 0.68337402, 0.67312653, 0.70206351,\n",
       "        0.76613641, 0.74040728, 0.75965696, 0.75060926, 0.73236037]),\n",
       " 'std_fit_time': array([0.18206873, 0.12550967, 0.24566382, 0.12921993, 0.20027817,\n",
       "        0.05364849, 0.04178305, 0.50345025, 0.5257579 , 0.30623648]),\n",
       " 'std_score_time': array([0.00828355, 0.02034946, 0.01031719, 0.00828421, 0.0052753 ,\n",
       "        0.00849793, 0.01294188, 0.00374577, 0.01020215, 0.0089495 ]),\n",
       " 'std_test_score': array([0.00277746, 0.00579601, 0.01107148, 0.01210693, 0.0087496 ,\n",
       "        0.00529377, 0.00451364, 0.00296449, 0.00341263, 0.00394818])}"
      ]
     },
     "execution_count": 64,
     "metadata": {
      "tags": []
     },
     "output_type": "execute_result"
    }
   ],
   "source": [
    "grid.cv_results_"
   ]
  },
  {
   "cell_type": "code",
   "execution_count": 0,
   "metadata": {
    "colab": {
     "base_uri": "https://localhost:8080/",
     "height": 34
    },
    "colab_type": "code",
    "executionInfo": {
     "elapsed": 3262,
     "status": "ok",
     "timestamp": 1583768152072,
     "user": {
      "displayName": "Sayan Dey",
      "photoUrl": "https://lh3.googleusercontent.com/a-/AOh14GhGdAaAMDWFJQH8pl6eFDU9flchgFMbU_GzEBhtcC8=s64",
      "userId": "03603580465490055794"
     },
     "user_tz": -330
    },
    "id": "y_lXfuuPH8BT",
    "outputId": "321a926b-6b0e-4e9c-b67b-40a5b89fafe0"
   },
   "outputs": [
    {
     "name": "stdout",
     "output_type": "stream",
     "text": [
      "Best Support Vector Machine Regression Performance on the test set: MAE = 9.8629\n"
     ]
    }
   ],
   "source": [
    "model_pred = grid.predict(X_test)\n",
    "svm_mae = mae(y_test, model_pred)\n",
    "print('Best Support Vector Machine Regression Performance on the test set: MAE = %0.4f' % svm_mae)"
   ]
  },
  {
   "cell_type": "code",
   "execution_count": 0,
   "metadata": {
    "colab": {
     "base_uri": "https://localhost:8080/",
     "height": 34
    },
    "colab_type": "code",
    "executionInfo": {
     "elapsed": 1351,
     "status": "ok",
     "timestamp": 1583769312578,
     "user": {
      "displayName": "Sayan Dey",
      "photoUrl": "https://lh3.googleusercontent.com/a-/AOh14GhGdAaAMDWFJQH8pl6eFDU9flchgFMbU_GzEBhtcC8=s64",
      "userId": "03603580465490055794"
     },
     "user_tz": -330
    },
    "id": "P19QiTZVA43Z",
    "outputId": "a98b892d-ab54-47c6-9748-4fe19f0338d9"
   },
   "outputs": [
    {
     "name": "stdout",
     "output_type": "stream",
     "text": [
      "Random Forest Regression Performance on the test set: MAE = 11.4679\n"
     ]
    }
   ],
   "source": [
    "random_forest = RandomForestRegressor(n_estimators=2,random_state=42)\n",
    "random_forest_mae = fit_and_evaluate(random_forest)\n",
    "\n",
    "print('Random Forest Regression Performance on the test set: MAE = %0.4f' % random_forest_mae)"
   ]
  },
  {
   "cell_type": "code",
   "execution_count": 0,
   "metadata": {
    "colab": {
     "base_uri": "https://localhost:8080/",
     "height": 34
    },
    "colab_type": "code",
    "executionInfo": {
     "elapsed": 2219,
     "status": "ok",
     "timestamp": 1583769315761,
     "user": {
      "displayName": "Sayan Dey",
      "photoUrl": "https://lh3.googleusercontent.com/a-/AOh14GhGdAaAMDWFJQH8pl6eFDU9flchgFMbU_GzEBhtcC8=s64",
      "userId": "03603580465490055794"
     },
     "user_tz": -330
    },
    "id": "Ittl2M7ZA43c",
    "outputId": "89a2879a-dc35-4fc6-e332-9ac7e8eeb713"
   },
   "outputs": [
    {
     "name": "stdout",
     "output_type": "stream",
     "text": [
      "Gradient Boosted Regression Performance on the test set: MAE = 9.9569\n"
     ]
    }
   ],
   "source": [
    "gradient_boosted = GradientBoostingRegressor(random_state=42)\n",
    "gradient_boosted_mae = fit_and_evaluate(gradient_boosted)\n",
    "\n",
    "print('Gradient Boosted Regression Performance on the test set: MAE = %0.4f' % gradient_boosted_mae)"
   ]
  },
  {
   "cell_type": "code",
   "execution_count": 0,
   "metadata": {
    "colab": {
     "base_uri": "https://localhost:8080/",
     "height": 34
    },
    "colab_type": "code",
    "executionInfo": {
     "elapsed": 3546,
     "status": "ok",
     "timestamp": 1583769330090,
     "user": {
      "displayName": "Sayan Dey",
      "photoUrl": "https://lh3.googleusercontent.com/a-/AOh14GhGdAaAMDWFJQH8pl6eFDU9flchgFMbU_GzEBhtcC8=s64",
      "userId": "03603580465490055794"
     },
     "user_tz": -330
    },
    "id": "TrHS4-qDA43e",
    "outputId": "54e09630-d6f1-4e53-807f-529e223e79c4"
   },
   "outputs": [
    {
     "name": "stdout",
     "output_type": "stream",
     "text": [
      "K-Nearest Neighbors Regression Performance on the test set: MAE = 13.0969\n"
     ]
    }
   ],
   "source": [
    "knn = KNeighborsRegressor(n_neighbors=10)\n",
    "knn_mae = fit_and_evaluate(knn)\n",
    "\n",
    "print('K-Nearest Neighbors Regression Performance on the test set: MAE = %0.4f' % knn_mae)"
   ]
  },
  {
   "cell_type": "code",
   "execution_count": 0,
   "metadata": {
    "colab": {
     "base_uri": "https://localhost:8080/",
     "height": 441
    },
    "colab_type": "code",
    "executionInfo": {
     "elapsed": 2002,
     "status": "ok",
     "timestamp": 1583769334937,
     "user": {
      "displayName": "Sayan Dey",
      "photoUrl": "https://lh3.googleusercontent.com/a-/AOh14GhGdAaAMDWFJQH8pl6eFDU9flchgFMbU_GzEBhtcC8=s64",
      "userId": "03603580465490055794"
     },
     "user_tz": -330
    },
    "id": "q2suMBfbA43g",
    "outputId": "849f8735-cdda-4e99-8261-13fcf5a0075f"
   },
   "outputs": [
    {
     "data": {
      "image/png": "[encoded data removed]",
      "text/plain": [
       "<Figure size 576x432 with 1 Axes>"
      ]
     },
     "metadata": {
      "tags": []
     },
     "output_type": "display_data"
    }
   ],
   "source": [
    "plt.style.use('fivethirtyeight')\n",
    "figsize(8, 6)\n",
    "\n",
    "# Dataframe to hold the results\n",
    "model_comparison = pd.DataFrame({'model': ['Linear Regression', 'Support Vector Machine',\n",
    "                                           'Random Forest', 'Gradient Boosted',\n",
    "                                            'K-Nearest Neighbors'],\n",
    "                                 'mae': [lr_mae, svm_mae, random_forest_mae, \n",
    "                                         gradient_boosted_mae, knn_mae]})\n",
    "\n",
    "# Horizontal bar chart of test mae\n",
    "model_comparison.sort_values('mae', ascending = False).plot(x = 'model', y = 'mae', kind = 'barh',\n",
    "                                                           color = 'red', edgecolor = 'black')\n",
    "\n",
    "# Plot formatting\n",
    "plt.ylabel(''); plt.yticks(size = 14); plt.xlabel('Mean Absolute Error'); plt.xticks(size = 14)\n",
    "plt.title('Model Comparison on Test MAE', size = 20);"
   ]
  },
  {
   "cell_type": "markdown",
   "metadata": {
    "colab_type": "text",
    "id": "gKHydBA8A43i"
   },
   "source": [
    "Depending on the run (the exact results change slighty each time), the gradient boosting regressor performs the best followed by the random forest. I have to admit that this is not the most fair comparison because we are using mostly the default hyperparameters. Especially with the Support Vector Regressor, the hyperparameters have a significant influence on performance. (the random forest and gradient boosting methods are great for starting out because the performance is less dependent on the model settings). Nonetheless, from these results, we can conclude that machine learning is applicable because all the models significantly outperform the baseline!\n",
    "\n",
    "From here, I am going to concentrate on optimizing the best model using hyperparamter tuning. Given the results here, I will concentrate on using the `GradientBoostingRegressor`. This is the Scikit-Learn implementation of [Gradient Boosted Trees](http://www.ccs.neu.edu/home/vip/teach/MLcourse/4_boosting/slides/gradient_boosting.pdf) which has won many [Kaggle competitions](http://matthewemery.ca/Why-Kagglers-Love-XGBoost/) in the past few years. The Scikit-Learn version is generally slower than the `XGBoost` version, but here we'll stick to Scikit-Learn because the syntax is more familiar. [Here's a guide](https://www.kaggle.com/dansbecker/learning-to-use-xgboost/code) to using the implementation in the `XGBoost` package."
   ]
  },
  {
   "cell_type": "markdown",
   "metadata": {
    "colab_type": "text",
    "id": "QiC3ghlBA43j"
   },
   "source": [
    "# Model Optimization \n",
    "\n",
    "In machine learning, optimizing a model means finding the best set of hyperparameters for a particular problem. \n",
    "\n",
    "## Hyperparameters\n",
    "\n",
    "First off, we need to understand what [model hyperparameters are in contrast to model parameters](https://machinelearningmastery.com/difference-between-a-parameter-and-a-hyperparameter/) :\n",
    "\n",
    "* Model __hyperparameters__ are best thought of as settings for a machine learning algorithm that are tuned by the data scientist before training. Examples would be the number of trees in the random forest, or the number of neighbors used in K Nearest Neighbors Regression. \n",
    "* Model __parameters__ are what the model learns during training, such as the weights in the linear regression.\n",
    "\n",
    "We as data scientists control a model by choosing the hyperparameters, and these choices can have a significant effect on the final performance of the model (although usually not as great of an effect as getting more data or engineering features). \n",
    "\n",
    "[Tuning the model hyperparameters](http://scikit-learn.org/stable/modules/grid_search.html) controls the balance of under vs over fitting in a model. We can try to correct for under-fitting by making a more complex model, such as using more trees in a random forest or more layers in a deep neural network. A model that underfits has high bias, and occurs when our model does not have enough capacity (degrees of freedom) to learn the relationship between the features and the target. We can try to correct for overfitting by limiting the complexity of the model and applying regularization. This might mean decreasing the degree of a polynomial regression, or adding dropout layers to a deep neural network. A model that overfits has high variance and in effect has memorized the training set. Both underfitting and overfitting lead to poor generalization performance on the test set. \n",
    "\n",
    "The problem with choosing the hyperparameters is that no set will work best across all problems. Therefore, for every new dataset, we have to find the best settings. This can be a time-consuming process, but luckily there are several options for performing this procedure in Scikit-Learn. Even better, new libraries, such as [TPOT](https://epistasislab.github.io/tpot/) by epistasis labs, is aiming to do this process automatically for you! For now, we will stick to doing this manually (sort of) in Scikit-Learn, but stay tuned for an article on automatic model selection! "
   ]
  },
  {
   "cell_type": "markdown",
   "metadata": {
    "colab_type": "text",
    "id": "Jvq_RPfQA43j"
   },
   "source": [
    "## Hyperparameter Tuning with Random Search and Cross Validation\n",
    "\n",
    "We can choose the best hyperparameters for a model through random search and cross validation. \n",
    "\n",
    "* Random search refers to the method in which we choose hyperparameters to evaluate: we define a range of options, and then randomly select combinations to try. This is in contrast to grid search which evaluates every single combination we specify. Generally, random search is better when we have limited knowledge of the best model hyperparameters and we can use random search to narrow down the options and then use grid search with a more limited range of options. \n",
    "* Cross validation is the method used to assess the performance of the hyperparameters. Rather than splitting the training set up into separate training and validation sets which reduces the amount of training data we can use, we use K-Fold Cross Validation. This means dividing the training data into K folds, and then going through an iterative process where we first train on K-1 of the folds and then evaluate performance on the kth fold. We repeat this process K times so eventually we will have tested on every example in the training data with the key that each iteration we are testing on data that we __did not train on__.  At the end of K-fold cross validation, we take the average error on each of the K iterations as the final performance measure and then train the model on all the training data at once. The performance we record is then used to compare different combinations of hyperparameters. \n",
    "\n",
    "A picture of k-fold cross validation using k = 5 is shown below:\n",
    "\n",
    "![image](images/kfold_cv.png)\n",
    "\n",
    "Here we will implement random search with cross validation to select the optimal hyperparameters for the gradient boosting regressor. We first define a grid then peform an iterative process of: randomly sample a set of hyperparameters from the grid, evaluate the hyperparameters using 4-fold cross-validation, and then select the hyperparameters with the best performance. \n",
    "\n",
    "Of course we don't actually do this iteration ourselves, we let Scikit-Learn and `RandomizedSearchCV` do the process for us! "
   ]
  },
  {
   "cell_type": "code",
   "execution_count": 0,
   "metadata": {
    "colab": {
     "base_uri": "https://localhost:8080/",
     "height": 1000
    },
    "colab_type": "code",
    "executionInfo": {
     "elapsed": 534122,
     "status": "ok",
     "timestamp": 1583770541434,
     "user": {
      "displayName": "Sayan Dey",
      "photoUrl": "https://lh3.googleusercontent.com/a-/AOh14GhGdAaAMDWFJQH8pl6eFDU9flchgFMbU_GzEBhtcC8=s64",
      "userId": "03603580465490055794"
     },
     "user_tz": -330
    },
    "id": "qVFoENAQA43q",
    "outputId": "2d26d80b-16f2-441b-bb04-01fc692bba5d"
   },
   "outputs": [
    {
     "name": "stderr",
     "output_type": "stream",
     "text": [
      "/usr/local/lib/python3.6/dist-packages/sklearn/model_selection/_split.py:1978: FutureWarning: The default value of cv will change from 3 to 5 in version 0.22. Specify it explicitly to silence this warning.\n",
      "  warnings.warn(CV_WARNING, FutureWarning)\n",
      "[Parallel(n_jobs=1)]: Using backend SequentialBackend with 1 concurrent workers.\n"
     ]
    },
    {
     "name": "stdout",
     "output_type": "stream",
     "text": [
      "Fitting 3 folds for each of 10 candidates, totalling 30 fits\n",
      "[CV] n_estimators=335 ................................................\n",
      "[CV] .................... n_estimators=335, score=0.810, total=   2.1s\n",
      "[CV] n_estimators=335 ................................................\n"
     ]
    },
    {
     "name": "stderr",
     "output_type": "stream",
     "text": [
      "[Parallel(n_jobs=1)]: Done   1 out of   1 | elapsed:    2.1s remaining:    0.0s\n"
     ]
    },
    {
     "name": "stdout",
     "output_type": "stream",
     "text": [
      "[CV] .................... n_estimators=335, score=0.818, total=   2.2s\n",
      "[CV] n_estimators=335 ................................................\n"
     ]
    },
    {
     "name": "stderr",
     "output_type": "stream",
     "text": [
      "[Parallel(n_jobs=1)]: Done   2 out of   2 | elapsed:    4.3s remaining:    0.0s\n"
     ]
    },
    {
     "name": "stdout",
     "output_type": "stream",
     "text": [
      "[CV] .................... n_estimators=335, score=0.792, total=   2.1s\n",
      "[CV] n_estimators=1721 ...............................................\n",
      "[CV] ................... n_estimators=1721, score=0.805, total=  10.8s\n",
      "[CV] n_estimators=1721 ...............................................\n",
      "[CV] ................... n_estimators=1721, score=0.809, total=  11.1s\n",
      "[CV] n_estimators=1721 ...............................................\n",
      "[CV] ................... n_estimators=1721, score=0.783, total=  11.0s\n",
      "[CV] n_estimators=3898 ...............................................\n",
      "[CV] ................... n_estimators=3898, score=0.797, total=  24.6s\n",
      "[CV] n_estimators=3898 ...............................................\n",
      "[CV] ................... n_estimators=3898, score=0.801, total=  25.4s\n",
      "[CV] n_estimators=3898 ...............................................\n",
      "[CV] ................... n_estimators=3898, score=0.775, total=  25.0s\n",
      "[CV] n_estimators=4187 ...............................................\n",
      "[CV] ................... n_estimators=4187, score=0.797, total=  26.5s\n",
      "[CV] n_estimators=4187 ...............................................\n",
      "[CV] ................... n_estimators=4187, score=0.800, total=  27.1s\n",
      "[CV] n_estimators=4187 ...............................................\n",
      "[CV] ................... n_estimators=4187, score=0.774, total=  26.6s\n",
      "[CV] n_estimators=4456 ...............................................\n",
      "[CV] ................... n_estimators=4456, score=0.796, total=  28.1s\n",
      "[CV] n_estimators=4456 ...............................................\n",
      "[CV] ................... n_estimators=4456, score=0.800, total=  29.0s\n",
      "[CV] n_estimators=4456 ...............................................\n",
      "[CV] ................... n_estimators=4456, score=0.772, total=  28.7s\n",
      "[CV] n_estimators=472 ................................................\n",
      "[CV] .................... n_estimators=472, score=0.810, total=   2.9s\n",
      "[CV] n_estimators=472 ................................................\n",
      "[CV] .................... n_estimators=472, score=0.820, total=   3.1s\n",
      "[CV] n_estimators=472 ................................................\n",
      "[CV] .................... n_estimators=472, score=0.792, total=   3.0s\n",
      "[CV] n_estimators=3132 ...............................................\n",
      "[CV] ................... n_estimators=3132, score=0.798, total=  19.7s\n",
      "[CV] n_estimators=3132 ...............................................\n",
      "[CV] ................... n_estimators=3132, score=0.803, total=  20.2s\n",
      "[CV] n_estimators=3132 ...............................................\n",
      "[CV] ................... n_estimators=3132, score=0.778, total=  20.1s\n",
      "[CV] n_estimators=3746 ...............................................\n",
      "[CV] ................... n_estimators=3746, score=0.797, total=  23.6s\n",
      "[CV] n_estimators=3746 ...............................................\n",
      "[CV] ................... n_estimators=3746, score=0.801, total=  24.3s\n",
      "[CV] n_estimators=3746 ...............................................\n",
      "[CV] ................... n_estimators=3746, score=0.775, total=  24.2s\n",
      "[CV] n_estimators=2386 ...............................................\n",
      "[CV] ................... n_estimators=2386, score=0.802, total=  15.0s\n",
      "[CV] n_estimators=2386 ...............................................\n",
      "[CV] ................... n_estimators=2386, score=0.806, total=  15.5s\n",
      "[CV] n_estimators=2386 ...............................................\n",
      "[CV] ................... n_estimators=2386, score=0.779, total=  15.5s\n",
      "[CV] n_estimators=3153 ...............................................\n",
      "[CV] ................... n_estimators=3153, score=0.798, total=  20.3s\n",
      "[CV] n_estimators=3153 ...............................................\n",
      "[CV] ................... n_estimators=3153, score=0.803, total=  20.6s\n",
      "[CV] n_estimators=3153 ...............................................\n",
      "[CV] ................... n_estimators=3153, score=0.777, total=  20.6s\n"
     ]
    },
    {
     "name": "stderr",
     "output_type": "stream",
     "text": [
      "[Parallel(n_jobs=1)]: Done  30 out of  30 | elapsed:  8.8min finished\n"
     ]
    },
    {
     "data": {
      "text/plain": [
       "RandomizedSearchCV(cv='warn', error_score='raise-deprecating',\n",
       "                   estimator=GradientBoostingRegressor(alpha=0.9,\n",
       "                                                       criterion='friedman_mse',\n",
       "                                                       init=None,\n",
       "                                                       learning_rate=0.1,\n",
       "                                                       loss='ls', max_depth=3,\n",
       "                                                       max_features=None,\n",
       "                                                       max_leaf_nodes=None,\n",
       "                                                       min_impurity_decrease=0.0,\n",
       "                                                       min_impurity_split=None,\n",
       "                                                       min_samples_leaf=1,\n",
       "                                                       min_samples_split=2,\n",
       "                                                       min_weight_fraction_leaf=0.0,\n",
       "                                                       n_estimators=100,\n",
       "                                                       n_iter_no_change=None,\n",
       "                                                       presort='auto',\n",
       "                                                       random_state=None,\n",
       "                                                       subsample=1.0,\n",
       "                                                       tol=0.0001,\n",
       "                                                       validation_fraction=0.1,\n",
       "                                                       verbose=0,\n",
       "                                                       warm_start=False),\n",
       "                   iid='warn', n_iter=10, n_jobs=None,\n",
       "                   param_distributions={'n_estimators': array([  10,   11,   12, ..., 4997, 4998, 4999])},\n",
       "                   pre_dispatch='2*n_jobs', random_state=None, refit=True,\n",
       "                   return_train_score=False, scoring=None, verbose=3)"
      ]
     },
     "execution_count": 159,
     "metadata": {
      "tags": []
     },
     "output_type": "execute_result"
    }
   ],
   "source": [
    "# defining parameter range \n",
    "param_grid = {\"n_estimators\": np.arange(10, 5000)}\n",
    "  \n",
    "random_cv = RandomizedSearchCV(GradientBoostingRegressor(), param_grid, verbose = 3) \n",
    "  \n",
    "# fitting the model for grid search \n",
    "random_cv.fit(X, y)"
   ]
  },
  {
   "cell_type": "markdown",
   "metadata": {
    "colab_type": "text",
    "id": "VayXGRbDA433"
   },
   "source": [
    "Scikit-learn uses the negative mean absolute error for evaluation because it wants a metric to maximize. Therefore, a better score will be closer to 0. We can get the results of the randomized search into a dataframe, and sort the values by performance."
   ]
  },
  {
   "cell_type": "code",
   "execution_count": 0,
   "metadata": {
    "colab": {
     "base_uri": "https://localhost:8080/",
     "height": 172
    },
    "colab_type": "code",
    "executionInfo": {
     "elapsed": 1406,
     "status": "ok",
     "timestamp": 1583770606361,
     "user": {
      "displayName": "Sayan Dey",
      "photoUrl": "https://lh3.googleusercontent.com/a-/AOh14GhGdAaAMDWFJQH8pl6eFDU9flchgFMbU_GzEBhtcC8=s64",
      "userId": "03603580465490055794"
     },
     "user_tz": -330
    },
    "id": "Mhvo_RdtA436",
    "outputId": "d05b29f9-591c-47be-f580-4c53d8f5f72a"
   },
   "outputs": [
    {
     "data": {
      "text/plain": [
       "GradientBoostingRegressor(alpha=0.9, criterion='friedman_mse', init=None,\n",
       "                          learning_rate=0.1, loss='ls', max_depth=3,\n",
       "                          max_features=None, max_leaf_nodes=None,\n",
       "                          min_impurity_decrease=0.0, min_impurity_split=None,\n",
       "                          min_samples_leaf=1, min_samples_split=2,\n",
       "                          min_weight_fraction_leaf=0.0, n_estimators=472,\n",
       "                          n_iter_no_change=None, presort='auto',\n",
       "                          random_state=None, subsample=1.0, tol=0.0001,\n",
       "                          validation_fraction=0.1, verbose=0, warm_start=False)"
      ]
     },
     "execution_count": 160,
     "metadata": {
      "tags": []
     },
     "output_type": "execute_result"
    }
   ],
   "source": [
    "random_cv.best_estimator_"
   ]
  },
  {
   "cell_type": "code",
   "execution_count": 0,
   "metadata": {
    "colab": {
     "base_uri": "https://localhost:8080/",
     "height": 34
    },
    "colab_type": "code",
    "executionInfo": {
     "elapsed": 1387,
     "status": "ok",
     "timestamp": 1583770630946,
     "user": {
      "displayName": "Sayan Dey",
      "photoUrl": "https://lh3.googleusercontent.com/a-/AOh14GhGdAaAMDWFJQH8pl6eFDU9flchgFMbU_GzEBhtcC8=s64",
      "userId": "03603580465490055794"
     },
     "user_tz": -330
    },
    "id": "K5mAH4GRFchb",
    "outputId": "c0d3a123-8fa5-4e0f-d891-154e18618ba8"
   },
   "outputs": [
    {
     "data": {
      "text/plain": [
       "0.8073613679840744"
      ]
     },
     "execution_count": 161,
     "metadata": {
      "tags": []
     },
     "output_type": "execute_result"
    }
   ],
   "source": [
    "random_cv.best_score_"
   ]
  },
  {
   "cell_type": "code",
   "execution_count": 0,
   "metadata": {
    "colab": {
     "base_uri": "https://localhost:8080/",
     "height": 34
    },
    "colab_type": "code",
    "executionInfo": {
     "elapsed": 5256,
     "status": "ok",
     "timestamp": 1583770730417,
     "user": {
      "displayName": "Sayan Dey",
      "photoUrl": "https://lh3.googleusercontent.com/a-/AOh14GhGdAaAMDWFJQH8pl6eFDU9flchgFMbU_GzEBhtcC8=s64",
      "userId": "03603580465490055794"
     },
     "user_tz": -330
    },
    "id": "JJieu4rOFt9W",
    "outputId": "5a7afc0e-f8d6-40b6-f862-d01747456169"
   },
   "outputs": [
    {
     "name": "stdout",
     "output_type": "stream",
     "text": [
      "Gradient Boosted Regression Performance on the test set: MAE = 9.4143\n"
     ]
    }
   ],
   "source": [
    "gradient_boosted = GradientBoostingRegressor(n_estimators=472,random_state=42)\n",
    "gradient_boosted_mae = fit_and_evaluate(gradient_boosted)\n",
    "\n",
    "print('Gradient Boosted Regression Performance on the test set: MAE = %0.4f' % gradient_boosted_mae)"
   ]
  },
  {
   "cell_type": "markdown",
   "metadata": {
    "colab_type": "text",
    "id": "yOyDgeb_A438"
   },
   "source": [
    "The best gradient boosted model has the following hyperparameters:\n",
    "\n",
    "* `loss = lad`\n",
    "* `n_estimators = 500`\n",
    "* `max_depth = 5`\n",
    "* `min_samples_leaf = 6`\n",
    "* `min_samples_split = 6`\n",
    "* `max_features = None` (This means that `max_features = n_features` according to the docs)\n",
    "\n",
    "Using random search is a good method to narrow down the possible hyperparameters to try. Initially, we had no idea which combination would work the best, but this at least narrows down the range of options.\n",
    "\n",
    "We could use the random search results to inform a grid search by creating a grid with hyperparameters close to those that worked best during the randomized search. However, rather than evaluating all of these settings again, I will focus on a single one, the number of trees in the forest (`n_estimators`). By varying only one hyperparameter, we can directly observe how it affects performance. In the case of the number of trees, we would expect to see a significant affect on the amount of under vs overfitting.\n",
    "\n",
    "Here we will use grid search with a grid that only has the `n_estimators` hyperparameter. We will evaluate a range of trees then plot the training and testing performance to get an idea of what increasing the number of trees does for our model. We will fix the other hyperparameters at the best values returned from random search to isolate the number of trees effect."
   ]
  },
  {
   "cell_type": "code",
   "execution_count": 0,
   "metadata": {
    "colab": {},
    "colab_type": "code",
    "id": "LBqfoulBA439"
   },
   "outputs": [],
   "source": [
    "# Create a range of trees to evaluate\n",
    "trees_grid = {'n_estimators': [100, 150, 200, 250, 300, 350, 400, 450, 500, 550, 600, 650, 700, 750, 800]}\n",
    "\n",
    "model = GradientBoostingRegressor(loss = 'lad', max_depth = 5,\n",
    "                                  min_samples_leaf = 6,\n",
    "                                  min_samples_split = 6,\n",
    "                                  max_features = None,\n",
    "                                  random_state = 42)\n",
    "\n",
    "# Grid Search Object using the trees range and the random forest model\n",
    "grid_search = GridSearchCV(estimator = model, param_grid=trees_grid, cv = 4, \n",
    "                           scoring = 'neg_mean_absolute_error', verbose = 1,\n",
    "                           n_jobs = -1, return_train_score = True)"
   ]
  },
  {
   "cell_type": "code",
   "execution_count": 0,
   "metadata": {
    "colab": {
     "base_uri": "https://localhost:8080/",
     "height": 516
    },
    "colab_type": "code",
    "executionInfo": {
     "elapsed": 337662,
     "status": "ok",
     "timestamp": 1583771134396,
     "user": {
      "displayName": "Sayan Dey",
      "photoUrl": "https://lh3.googleusercontent.com/a-/AOh14GhGdAaAMDWFJQH8pl6eFDU9flchgFMbU_GzEBhtcC8=s64",
      "userId": "03603580465490055794"
     },
     "user_tz": -330
    },
    "id": "hUAHbaHTA43_",
    "outputId": "e929dd33-6072-4eb9-cdf6-ce1fbbd4e4b7"
   },
   "outputs": [
    {
     "name": "stdout",
     "output_type": "stream",
     "text": [
      "Fitting 4 folds for each of 15 candidates, totalling 60 fits\n"
     ]
    },
    {
     "name": "stderr",
     "output_type": "stream",
     "text": [
      "[Parallel(n_jobs=-1)]: Using backend LokyBackend with 2 concurrent workers.\n",
      "[Parallel(n_jobs=-1)]: Done  46 tasks      | elapsed:  3.4min\n",
      "[Parallel(n_jobs=-1)]: Done  60 out of  60 | elapsed:  5.4min finished\n"
     ]
    },
    {
     "data": {
      "text/plain": [
       "GridSearchCV(cv=4, error_score='raise-deprecating',\n",
       "             estimator=GradientBoostingRegressor(alpha=0.9,\n",
       "                                                 criterion='friedman_mse',\n",
       "                                                 init=None, learning_rate=0.1,\n",
       "                                                 loss='lad', max_depth=5,\n",
       "                                                 max_features=None,\n",
       "                                                 max_leaf_nodes=None,\n",
       "                                                 min_impurity_decrease=0.0,\n",
       "                                                 min_impurity_split=None,\n",
       "                                                 min_samples_leaf=6,\n",
       "                                                 min_samples_split=6,\n",
       "                                                 min_weight_fraction_leaf=0.0,\n",
       "                                                 n_estimators=100,\n",
       "                                                 n_iter_no_change=None,\n",
       "                                                 presort='auto',\n",
       "                                                 random_state=42, subsample=1.0,\n",
       "                                                 tol=0.0001,\n",
       "                                                 validation_fraction=0.1,\n",
       "                                                 verbose=0, warm_start=False),\n",
       "             iid='warn', n_jobs=-1,\n",
       "             param_grid={'n_estimators': [100, 150, 200, 250, 300, 350, 400,\n",
       "                                          450, 500, 550, 600, 650, 700, 750,\n",
       "                                          800]},\n",
       "             pre_dispatch='2*n_jobs', refit=True, return_train_score=True,\n",
       "             scoring='neg_mean_absolute_error', verbose=1)"
      ]
     },
     "execution_count": 164,
     "metadata": {
      "tags": []
     },
     "output_type": "execute_result"
    }
   ],
   "source": [
    "# Fit the grid search\n",
    "grid_search.fit(X, y)"
   ]
  },
  {
   "cell_type": "code",
   "execution_count": 0,
   "metadata": {
    "colab": {
     "base_uri": "https://localhost:8080/",
     "height": 564
    },
    "colab_type": "code",
    "executionInfo": {
     "elapsed": 1975,
     "status": "ok",
     "timestamp": 1583771227081,
     "user": {
      "displayName": "Sayan Dey",
      "photoUrl": "https://lh3.googleusercontent.com/a-/AOh14GhGdAaAMDWFJQH8pl6eFDU9flchgFMbU_GzEBhtcC8=s64",
      "userId": "03603580465490055794"
     },
     "user_tz": -330
    },
    "id": "jjfsGKs_A44A",
    "outputId": "9e872353-fe7a-47ed-f99a-5974f112e916"
   },
   "outputs": [
    {
     "data": {
      "image/png": "[encoded data removed]",
      "text/plain": [
       "<Figure size 576x576 with 1 Axes>"
      ]
     },
     "metadata": {
      "tags": []
     },
     "output_type": "display_data"
    }
   ],
   "source": [
    "# Get the results into a dataframe\n",
    "results = pd.DataFrame(grid_search.cv_results_)\n",
    "\n",
    "# Plot the training and testing error vs number of trees\n",
    "figsize(8, 8)\n",
    "plt.style.use('fivethirtyeight')\n",
    "plt.plot(results['param_n_estimators'], -1 * results['mean_test_score'], label = 'Testing Error')\n",
    "plt.plot(results['param_n_estimators'], -1 * results['mean_train_score'], label = 'Training Error')\n",
    "plt.xlabel('Number of Trees'); plt.ylabel('Mean Abosolute Error'); plt.legend();\n",
    "plt.title('Performance vs Number of Trees');"
   ]
  },
  {
   "cell_type": "code",
   "execution_count": 0,
   "metadata": {
    "colab": {
     "base_uri": "https://localhost:8080/",
     "height": 307
    },
    "colab_type": "code",
    "executionInfo": {
     "elapsed": 1609,
     "status": "ok",
     "timestamp": 1583771229119,
     "user": {
      "displayName": "Sayan Dey",
      "photoUrl": "https://lh3.googleusercontent.com/a-/AOh14GhGdAaAMDWFJQH8pl6eFDU9flchgFMbU_GzEBhtcC8=s64",
      "userId": "03603580465490055794"
     },
     "user_tz": -330
    },
    "id": "yHYvUHzbA44C",
    "outputId": "cb611b23-9187-41e8-9b84-a4f5e6668188"
   },
   "outputs": [
    {
     "data": {
      "text/html": [
       "<div>\n",
       "<style scoped>\n",
       "    .dataframe tbody tr th:only-of-type {\n",
       "        vertical-align: middle;\n",
       "    }\n",
       "\n",
       "    .dataframe tbody tr th {\n",
       "        vertical-align: top;\n",
       "    }\n",
       "\n",
       "    .dataframe thead th {\n",
       "        text-align: right;\n",
       "    }\n",
       "</style>\n",
       "<table border=\"1\" class=\"dataframe\">\n",
       "  <thead>\n",
       "    <tr style=\"text-align: right;\">\n",
       "      <th></th>\n",
       "      <th>mean_fit_time</th>\n",
       "      <th>std_fit_time</th>\n",
       "      <th>mean_score_time</th>\n",
       "      <th>std_score_time</th>\n",
       "      <th>param_n_estimators</th>\n",
       "      <th>params</th>\n",
       "      <th>split0_test_score</th>\n",
       "      <th>split1_test_score</th>\n",
       "      <th>split2_test_score</th>\n",
       "      <th>split3_test_score</th>\n",
       "      <th>mean_test_score</th>\n",
       "      <th>std_test_score</th>\n",
       "      <th>rank_test_score</th>\n",
       "      <th>split0_train_score</th>\n",
       "      <th>split1_train_score</th>\n",
       "      <th>split2_train_score</th>\n",
       "      <th>split3_train_score</th>\n",
       "      <th>mean_train_score</th>\n",
       "      <th>std_train_score</th>\n",
       "    </tr>\n",
       "  </thead>\n",
       "  <tbody>\n",
       "    <tr>\n",
       "      <th>14</th>\n",
       "      <td>17.581534</td>\n",
       "      <td>1.637150</td>\n",
       "      <td>0.033675</td>\n",
       "      <td>0.006550</td>\n",
       "      <td>800</td>\n",
       "      <td>{'n_estimators': 800}</td>\n",
       "      <td>-8.889484</td>\n",
       "      <td>-8.736329</td>\n",
       "      <td>-9.482152</td>\n",
       "      <td>-9.005748</td>\n",
       "      <td>-9.028363</td>\n",
       "      <td>0.278826</td>\n",
       "      <td>1</td>\n",
       "      <td>-6.869955</td>\n",
       "      <td>-6.870581</td>\n",
       "      <td>-6.549034</td>\n",
       "      <td>-6.714961</td>\n",
       "      <td>-6.751133</td>\n",
       "      <td>0.132796</td>\n",
       "    </tr>\n",
       "    <tr>\n",
       "      <th>13</th>\n",
       "      <td>17.347246</td>\n",
       "      <td>0.498953</td>\n",
       "      <td>0.036423</td>\n",
       "      <td>0.002889</td>\n",
       "      <td>750</td>\n",
       "      <td>{'n_estimators': 750}</td>\n",
       "      <td>-8.899816</td>\n",
       "      <td>-8.732614</td>\n",
       "      <td>-9.486676</td>\n",
       "      <td>-9.006134</td>\n",
       "      <td>-9.031245</td>\n",
       "      <td>0.280389</td>\n",
       "      <td>2</td>\n",
       "      <td>-6.919066</td>\n",
       "      <td>-6.892208</td>\n",
       "      <td>-6.603458</td>\n",
       "      <td>-6.745231</td>\n",
       "      <td>-6.789991</td>\n",
       "      <td>0.126399</td>\n",
       "    </tr>\n",
       "    <tr>\n",
       "      <th>12</th>\n",
       "      <td>16.129889</td>\n",
       "      <td>0.461988</td>\n",
       "      <td>0.032293</td>\n",
       "      <td>0.000642</td>\n",
       "      <td>700</td>\n",
       "      <td>{'n_estimators': 700}</td>\n",
       "      <td>-8.899113</td>\n",
       "      <td>-8.734953</td>\n",
       "      <td>-9.486923</td>\n",
       "      <td>-9.012273</td>\n",
       "      <td>-9.033250</td>\n",
       "      <td>0.279823</td>\n",
       "      <td>3</td>\n",
       "      <td>-6.948180</td>\n",
       "      <td>-6.924273</td>\n",
       "      <td>-6.655393</td>\n",
       "      <td>-6.821645</td>\n",
       "      <td>-6.837373</td>\n",
       "      <td>0.115319</td>\n",
       "    </tr>\n",
       "    <tr>\n",
       "      <th>11</th>\n",
       "      <td>15.040383</td>\n",
       "      <td>0.445519</td>\n",
       "      <td>0.030407</td>\n",
       "      <td>0.001090</td>\n",
       "      <td>650</td>\n",
       "      <td>{'n_estimators': 650}</td>\n",
       "      <td>-8.909465</td>\n",
       "      <td>-8.737305</td>\n",
       "      <td>-9.486227</td>\n",
       "      <td>-9.010965</td>\n",
       "      <td>-9.035926</td>\n",
       "      <td>0.277728</td>\n",
       "      <td>4</td>\n",
       "      <td>-7.007744</td>\n",
       "      <td>-6.973232</td>\n",
       "      <td>-6.690212</td>\n",
       "      <td>-6.876645</td>\n",
       "      <td>-6.886958</td>\n",
       "      <td>0.123337</td>\n",
       "    </tr>\n",
       "    <tr>\n",
       "      <th>10</th>\n",
       "      <td>13.944642</td>\n",
       "      <td>0.483907</td>\n",
       "      <td>0.029032</td>\n",
       "      <td>0.000850</td>\n",
       "      <td>600</td>\n",
       "      <td>{'n_estimators': 600}</td>\n",
       "      <td>-8.906936</td>\n",
       "      <td>-8.740662</td>\n",
       "      <td>-9.494985</td>\n",
       "      <td>-9.021070</td>\n",
       "      <td>-9.040848</td>\n",
       "      <td>0.280466</td>\n",
       "      <td>5</td>\n",
       "      <td>-7.061380</td>\n",
       "      <td>-6.997891</td>\n",
       "      <td>-6.744749</td>\n",
       "      <td>-6.929645</td>\n",
       "      <td>-6.933416</td>\n",
       "      <td>0.118471</td>\n",
       "    </tr>\n",
       "  </tbody>\n",
       "</table>\n",
       "</div>"
      ],
      "text/plain": [
       "    mean_fit_time  std_fit_time  mean_score_time  std_score_time  \\\n",
       "14      17.581534      1.637150         0.033675        0.006550   \n",
       "13      17.347246      0.498953         0.036423        0.002889   \n",
       "12      16.129889      0.461988         0.032293        0.000642   \n",
       "11      15.040383      0.445519         0.030407        0.001090   \n",
       "10      13.944642      0.483907         0.029032        0.000850   \n",
       "\n",
       "   param_n_estimators                 params  split0_test_score  \\\n",
       "14                800  {'n_estimators': 800}          -8.889484   \n",
       "13                750  {'n_estimators': 750}          -8.899816   \n",
       "12                700  {'n_estimators': 700}          -8.899113   \n",
       "11                650  {'n_estimators': 650}          -8.909465   \n",
       "10                600  {'n_estimators': 600}          -8.906936   \n",
       "\n",
       "    split1_test_score  split2_test_score  split3_test_score  mean_test_score  \\\n",
       "14          -8.736329          -9.482152          -9.005748        -9.028363   \n",
       "13          -8.732614          -9.486676          -9.006134        -9.031245   \n",
       "12          -8.734953          -9.486923          -9.012273        -9.033250   \n",
       "11          -8.737305          -9.486227          -9.010965        -9.035926   \n",
       "10          -8.740662          -9.494985          -9.021070        -9.040848   \n",
       "\n",
       "    std_test_score  rank_test_score  split0_train_score  split1_train_score  \\\n",
       "14        0.278826                1           -6.869955           -6.870581   \n",
       "13        0.280389                2           -6.919066           -6.892208   \n",
       "12        0.279823                3           -6.948180           -6.924273   \n",
       "11        0.277728                4           -7.007744           -6.973232   \n",
       "10        0.280466                5           -7.061380           -6.997891   \n",
       "\n",
       "    split2_train_score  split3_train_score  mean_train_score  std_train_score  \n",
       "14           -6.549034           -6.714961         -6.751133         0.132796  \n",
       "13           -6.603458           -6.745231         -6.789991         0.126399  \n",
       "12           -6.655393           -6.821645         -6.837373         0.115319  \n",
       "11           -6.690212           -6.876645         -6.886958         0.123337  \n",
       "10           -6.744749           -6.929645         -6.933416         0.118471  "
      ]
     },
     "execution_count": 166,
     "metadata": {
      "tags": []
     },
     "output_type": "execute_result"
    }
   ],
   "source": [
    "results.sort_values('mean_test_score', ascending = False).head(5)"
   ]
  },
  {
   "cell_type": "markdown",
   "metadata": {
    "colab_type": "text",
    "id": "z2rsRlAFA44F"
   },
   "source": [
    "From this plot, it's pretty clear that our model is [overfitting](https://elitedatascience.com/overfitting-in-machine-learning)! The training error is significantly lower than the testing error, which shows that the model is learning the training data very well but then is not able to generalize to the test data as well. Moveover, as the number of trees increases, the amount of overfitting increases. Both the test and training error decrease as the number of trees increase but the training error decreases more rapidly. \n",
    "\n",
    "There will always be a difference between the training error and testing error (the training error is always lower) but if there is a significant difference, we want to try and reduce overfitting, either by getting more training data or reducing the complexity of the model through hyperparameter tuning or regularization. [For the gradient boosting regressor](https://www.quora.com/How-do-you-correct-for-overfitting-for-a-Gradient-Boosted-Machine), some options include reducing the number of trees, reducing the max depth of each tree, and increasing the minimum number of samples in a leaf node. For anyone who wants to go further into the gradient boosting regressor, [here is a great article.](http://blog.kaggle.com/2017/01/23/a-kaggle-master-explains-gradient-boosting/) For now, we will use the model with the best performance and accept that it may be overfitting to the training set. \n",
    "\n",
    "Based on the cross validation results, the best model using 800 trees and achieves a cross validation error under 9. This indicates that the average cross-validation estimate of the Energy Star Score is within 9 points of the true answer! "
   ]
  },
  {
   "cell_type": "markdown",
   "metadata": {
    "colab_type": "text",
    "id": "TZD0WwvCA44G"
   },
   "source": [
    "# Evaluate Final Model on the Test Set\n",
    "\n",
    "We will use the best model from hyperparameter tuning to make predictions on the testing set. Remember, our model has never seen the test set before, so this performance should be a good indicator of how the model would perform if deployed in the real world. \n",
    "\n",
    "For comparison, we can also look at the performance of the default model. The code below creates the final model, trains it (with timing), and evaluates on the test set. "
   ]
  },
  {
   "cell_type": "code",
   "execution_count": 0,
   "metadata": {
    "colab": {
     "base_uri": "https://localhost:8080/",
     "height": 172
    },
    "colab_type": "code",
    "executionInfo": {
     "elapsed": 1388,
     "status": "ok",
     "timestamp": 1583771250513,
     "user": {
      "displayName": "Sayan Dey",
      "photoUrl": "https://lh3.googleusercontent.com/a-/AOh14GhGdAaAMDWFJQH8pl6eFDU9flchgFMbU_GzEBhtcC8=s64",
      "userId": "03603580465490055794"
     },
     "user_tz": -330
    },
    "id": "gE7X_55UA44G",
    "outputId": "57663eee-f728-451d-c196-85df97bc756a"
   },
   "outputs": [
    {
     "data": {
      "text/plain": [
       "GradientBoostingRegressor(alpha=0.9, criterion='friedman_mse', init=None,\n",
       "                          learning_rate=0.1, loss='lad', max_depth=5,\n",
       "                          max_features=None, max_leaf_nodes=None,\n",
       "                          min_impurity_decrease=0.0, min_impurity_split=None,\n",
       "                          min_samples_leaf=6, min_samples_split=6,\n",
       "                          min_weight_fraction_leaf=0.0, n_estimators=800,\n",
       "                          n_iter_no_change=None, presort='auto',\n",
       "                          random_state=42, subsample=1.0, tol=0.0001,\n",
       "                          validation_fraction=0.1, verbose=0, warm_start=False)"
      ]
     },
     "execution_count": 167,
     "metadata": {
      "tags": []
     },
     "output_type": "execute_result"
    }
   ],
   "source": [
    "# Default model\n",
    "default_model = GradientBoostingRegressor(random_state = 42)\n",
    "\n",
    "# Select the best model\n",
    "final_model = grid_search.best_estimator_\n",
    "\n",
    "final_model"
   ]
  },
  {
   "cell_type": "code",
   "execution_count": 0,
   "metadata": {
    "colab": {
     "base_uri": "https://localhost:8080/",
     "height": 34
    },
    "colab_type": "code",
    "executionInfo": {
     "elapsed": 5669,
     "status": "ok",
     "timestamp": 1583771262806,
     "user": {
      "displayName": "Sayan Dey",
      "photoUrl": "https://lh3.googleusercontent.com/a-/AOh14GhGdAaAMDWFJQH8pl6eFDU9flchgFMbU_GzEBhtcC8=s64",
      "userId": "03603580465490055794"
     },
     "user_tz": -330
    },
    "id": "dojCyBeZA44K",
    "outputId": "bb7bcb1d-c676-4f58-94c5-46f0dd3e7a4f"
   },
   "outputs": [
    {
     "name": "stdout",
     "output_type": "stream",
     "text": [
      "1 loop, best of 5: 833 ms per loop\n"
     ]
    }
   ],
   "source": [
    "%%timeit -n 1 -r 5\n",
    "default_model.fit(X, y)"
   ]
  },
  {
   "cell_type": "code",
   "execution_count": 0,
   "metadata": {
    "colab": {
     "base_uri": "https://localhost:8080/",
     "height": 34
    },
    "colab_type": "code",
    "executionInfo": {
     "elapsed": 59553,
     "status": "ok",
     "timestamp": 1583771326054,
     "user": {
      "displayName": "Sayan Dey",
      "photoUrl": "https://lh3.googleusercontent.com/a-/AOh14GhGdAaAMDWFJQH8pl6eFDU9flchgFMbU_GzEBhtcC8=s64",
      "userId": "03603580465490055794"
     },
     "user_tz": -330
    },
    "id": "hb9LBdOdA44O",
    "outputId": "7c88f6a6-0036-4e25-c165-4eb015963fe6"
   },
   "outputs": [
    {
     "name": "stdout",
     "output_type": "stream",
     "text": [
      "1 loop, best of 5: 11.6 s per loop\n"
     ]
    }
   ],
   "source": [
    "%%timeit -n 1 -r 5\n",
    "final_model.fit(X, y)"
   ]
  },
  {
   "cell_type": "code",
   "execution_count": 0,
   "metadata": {
    "colab": {
     "base_uri": "https://localhost:8080/",
     "height": 51
    },
    "colab_type": "code",
    "executionInfo": {
     "elapsed": 1481,
     "status": "ok",
     "timestamp": 1583771384553,
     "user": {
      "displayName": "Sayan Dey",
      "photoUrl": "https://lh3.googleusercontent.com/a-/AOh14GhGdAaAMDWFJQH8pl6eFDU9flchgFMbU_GzEBhtcC8=s64",
      "userId": "03603580465490055794"
     },
     "user_tz": -330
    },
    "id": "d0R8UnhjIMoC",
    "outputId": "1c33cb35-03e7-4c55-b4ba-a373f02570b1"
   },
   "outputs": [
    {
     "name": "stdout",
     "output_type": "stream",
     "text": [
      "Default model performance on the test set: MAE = 9.9569.\n",
      "Final model performance on the test set:   MAE = 9.0442.\n"
     ]
    }
   ],
   "source": [
    "default_pred = default_model.predict(X_test)\n",
    "final_pred = final_model.predict(X_test)\n",
    "\n",
    "print('Default model performance on the test set: MAE = %0.4f.' % mae(y_test, default_pred))\n",
    "print('Final model performance on the test set:   MAE = %0.4f.' % mae(y_test, final_pred))"
   ]
  },
  {
   "cell_type": "markdown",
   "metadata": {
    "colab_type": "text",
    "id": "1sIIQnDiA44T"
   },
   "source": [
    "The final model does out-perform the baseline model by about 10%, but at the cost of significantly increased running time (it's about 12 times slower on my machine). Machine learning is often a field of tradeoffs: bias vs variance, acccuracy vs interpretability, accuracy vs running time, and the final decision of which model to use depends on the situation. Here, the increase in run time is not an impediment, because while the relative difference is large, the absolute magnitude of the training time is not significant. In a different situation, the balance might not be the same so we would need to consider what we are optimizing for and the limitations we have to work with. \n",
    "\n",
    "To get a sense of the predictions, we can plot the distribution of true values on the test set and the predicted values on the test set. "
   ]
  },
  {
   "cell_type": "code",
   "execution_count": 0,
   "metadata": {
    "colab": {
     "base_uri": "https://localhost:8080/",
     "height": 564
    },
    "colab_type": "code",
    "executionInfo": {
     "elapsed": 1897,
     "status": "ok",
     "timestamp": 1583771389789,
     "user": {
      "displayName": "Sayan Dey",
      "photoUrl": "https://lh3.googleusercontent.com/a-/AOh14GhGdAaAMDWFJQH8pl6eFDU9flchgFMbU_GzEBhtcC8=s64",
      "userId": "03603580465490055794"
     },
     "user_tz": -330
    },
    "id": "tFko5iFMA44T",
    "outputId": "8b608f5a-9625-4503-ff6b-8b9deac56b8b"
   },
   "outputs": [
    {
     "data": {
      "image/png": "[encoded data removed]",
      "text/plain": [
       "<Figure size 576x576 with 1 Axes>"
      ]
     },
     "metadata": {
      "tags": []
     },
     "output_type": "display_data"
    }
   ],
   "source": [
    "figsize(8, 8)\n",
    "\n",
    "# Density plot of the final predictions and the test values\n",
    "sns.kdeplot(final_pred, label = 'Predictions')\n",
    "sns.kdeplot(y_test, label = 'Values')\n",
    "\n",
    "# Label the plot\n",
    "plt.xlabel('Energy Star Score'); plt.ylabel('Density');\n",
    "plt.title('Test Values and Predictions');"
   ]
  },
  {
   "cell_type": "markdown",
   "metadata": {
    "colab_type": "text",
    "id": "UkLM4nUzA44V"
   },
   "source": [
    "The distribution looks to be nearly the same although the density of the predicted values is closer to the median of the test values rather than to the actual peak at 100. It appears the model might be less accurate at predicting the extreme values and instead predicts values closer to the median. \n",
    "\n",
    "Another diagnostic plot is a histogram of the residuals. Ideally, we would hope that the residuals are normally distributed, meaning that the model is wrong the same amount in both directions (high and low). "
   ]
  },
  {
   "cell_type": "code",
   "execution_count": 0,
   "metadata": {
    "colab": {
     "base_uri": "https://localhost:8080/",
     "height": 564
    },
    "colab_type": "code",
    "executionInfo": {
     "elapsed": 1577,
     "status": "ok",
     "timestamp": 1583771397087,
     "user": {
      "displayName": "Sayan Dey",
      "photoUrl": "https://lh3.googleusercontent.com/a-/AOh14GhGdAaAMDWFJQH8pl6eFDU9flchgFMbU_GzEBhtcC8=s64",
      "userId": "03603580465490055794"
     },
     "user_tz": -330
    },
    "id": "fyzgswHhA44X",
    "outputId": "3f39d742-958c-4c5c-88c7-daaecf4fe534"
   },
   "outputs": [
    {
     "data": {
      "image/png": "[encoded data removed]",
      "text/plain": [
       "<Figure size 576x576 with 1 Axes>"
      ]
     },
     "metadata": {
      "tags": []
     },
     "output_type": "display_data"
    }
   ],
   "source": [
    "figsize = (6, 6)\n",
    "\n",
    "# Calculate the residuals \n",
    "residuals = final_pred - y_test\n",
    "\n",
    "# Plot the residuals in a histogram\n",
    "plt.hist(residuals, color = 'red', bins = 20,\n",
    "         edgecolor = 'black')\n",
    "plt.xlabel('Error'); plt.ylabel('Count')\n",
    "plt.title('Distribution of Residuals');"
   ]
  },
  {
   "cell_type": "markdown",
   "metadata": {
    "colab_type": "text",
    "id": "UrSg78PzA44Z"
   },
   "source": [
    "The residuals are close to normally disributed, with a few noticeable outliers on the low end. These indicate errors where the model estimate was far below that of the true value. "
   ]
  },
  {
   "cell_type": "markdown",
   "metadata": {
    "colab_type": "text",
    "id": "XD4S9i_pA44a"
   },
   "source": [
    "# Conclusions\n",
    "\n",
    "In this notebook, we covered crucial concepts in the machine learning pipeline:\n",
    "\n",
    "* Imputing missing values\n",
    "* Evaluating and comparing several machine learning methods\n",
    "* Hyperparameter tuning a machine learning model using random search and cross validation\n",
    "* Evaluating the best model on the testing set\n",
    "\n",
    "The results showed us that machine learning is applicable to our problem, with the final model able to the predict the Energy Star Score of a building to within 9.1 points. We also saw that hyperparamter tuning was able to improve the performance of the model although at a considerable cost in terms of time invested. This is a good reminder that proper feature engineering and gathering more data (if possible!) has a much larger pay-off than fine-tuning the model. We also observed the trade-off in run-time versus accuracy, which is one of many considerations we have to take into account when designing machine learning models. \n",
    "\n",
    "We know our model is accurate, but do we know why it makes the predictions it does? The next step in the machine learning process is crucial: trying to understand how the model makes predictions. Achieveing high accuracy is great, but it would also be helpful if we could figure out why the model is able to predict accurately so we could use this information to better understand the problem. For example, what features does the model rely on to infer the Energy Star Score? It is possible to use this model for feature selection and implement a simpler model that is more interpretable? \n",
    "\n",
    "In the final notebook, we will try to answer these questions and draw final conclusions from the project!"
   ]
  },
  {
   "cell_type": "code",
   "execution_count": 187,
   "metadata": {
    "colab": {
     "base_uri": "https://localhost:8080/",
     "height": 777
    },
    "colab_type": "code",
    "executionInfo": {
     "elapsed": 9511,
     "status": "ok",
     "timestamp": 1583771832149,
     "user": {
      "displayName": "Sayan Dey",
      "photoUrl": "https://lh3.googleusercontent.com/a-/AOh14GhGdAaAMDWFJQH8pl6eFDU9flchgFMbU_GzEBhtcC8=s64",
      "userId": "03603580465490055794"
     },
     "user_tz": -330
    },
    "id": "sK-aAEOkJ6qv",
    "outputId": "0a3e16d1-2984-45cd-cee3-25f40f11e31f"
   },
   "outputs": [
    {
     "name": "stdout",
     "output_type": "stream",
     "text": [
      "Collecting TPOT\n",
      "\u001b[?25l  Downloading https://files.pythonhosted.org/packages/ea/9f/813faf5ec7aa95f393a07603abd01fcb925b65ffe95441b25da029a69ff7/TPOT-0.11.1-py3-none-any.whl (75kB)\n",
      "\r",
      "\u001b[K     |████▎                           | 10kB 25.0MB/s eta 0:00:01\r",
      "\u001b[K     |████████▋                       | 20kB 6.3MB/s eta 0:00:01\r",
      "\u001b[K     |█████████████                   | 30kB 7.6MB/s eta 0:00:01\r",
      "\u001b[K     |█████████████████▎              | 40kB 5.9MB/s eta 0:00:01\r",
      "\u001b[K     |█████████████████████▋          | 51kB 6.2MB/s eta 0:00:01\r",
      "\u001b[K     |██████████████████████████      | 61kB 7.3MB/s eta 0:00:01\r",
      "\u001b[K     |██████████████████████████████▎ | 71kB 8.4MB/s eta 0:00:01\r",
      "\u001b[K     |████████████████████████████████| 81kB 5.4MB/s \n",
      "\u001b[?25hCollecting update-checker>=0.16\n",
      "  Downloading https://files.pythonhosted.org/packages/17/c9/ab11855af164d03be0ff4fddd4c46a5bd44799a9ecc1770e01a669c21168/update_checker-0.16-py2.py3-none-any.whl\n",
      "Collecting tqdm>=4.36.1\n",
      "\u001b[?25l  Downloading https://files.pythonhosted.org/packages/47/55/fd9170ba08a1a64a18a7f8a18f088037316f2a41be04d2fe6ece5a653e8f/tqdm-4.43.0-py2.py3-none-any.whl (59kB)\n",
      "\r",
      "\u001b[K     |█████▌                          | 10kB 36.4MB/s eta 0:00:01\r",
      "\u001b[K     |███████████                     | 20kB 36.8MB/s eta 0:00:01\r",
      "\u001b[K     |████████████████▋               | 30kB 42.0MB/s eta 0:00:01\r",
      "\u001b[K     |██████████████████████▏         | 40kB 26.8MB/s eta 0:00:01\r",
      "\u001b[K     |███████████████████████████▊    | 51kB 17.1MB/s eta 0:00:01\r",
      "\u001b[K     |████████████████████████████████| 61kB 6.8MB/s \n",
      "\u001b[?25hRequirement already satisfied: joblib>=0.13.2 in /usr/local/lib/python3.6/dist-packages (from TPOT) (0.14.1)\n",
      "Requirement already satisfied: pandas>=0.24.2 in /usr/local/lib/python3.6/dist-packages (from TPOT) (0.25.3)\n",
      "Collecting stopit>=1.1.1\n",
      "  Downloading https://files.pythonhosted.org/packages/35/58/e8bb0b0fb05baf07bbac1450c447d753da65f9701f551dca79823ce15d50/stopit-1.1.2.tar.gz\n",
      "Requirement already satisfied: numpy>=1.16.3 in /usr/local/lib/python3.6/dist-packages (from TPOT) (1.17.5)\n",
      "Collecting deap>=1.2\n",
      "\u001b[?25l  Downloading https://files.pythonhosted.org/packages/0a/eb/2bd0a32e3ce757fb26264765abbaedd6d4d3640d90219a513aeabd08ee2b/deap-1.3.1-cp36-cp36m-manylinux2010_x86_64.whl (157kB)\n",
      "\u001b[K     |████████████████████████████████| 163kB 20.0MB/s \n",
      "\u001b[?25hCollecting scikit-learn>=0.22.0\n",
      "  Using cached https://files.pythonhosted.org/packages/5e/d8/312e03adf4c78663e17d802fe2440072376fee46cada1404f1727ed77a32/scikit_learn-0.22.2.post1-cp36-cp36m-manylinux1_x86_64.whl\n",
      "Requirement already satisfied: scipy>=1.3.1 in /usr/local/lib/python3.6/dist-packages (from TPOT) (1.4.1)\n",
      "Requirement already satisfied: requests>=2.3.0 in /usr/local/lib/python3.6/dist-packages (from update-checker>=0.16->TPOT) (2.21.0)\n",
      "Requirement already satisfied: python-dateutil>=2.6.1 in /usr/local/lib/python3.6/dist-packages (from pandas>=0.24.2->TPOT) (2.6.1)\n",
      "Requirement already satisfied: pytz>=2017.2 in /usr/local/lib/python3.6/dist-packages (from pandas>=0.24.2->TPOT) (2018.9)\n",
      "Requirement already satisfied: urllib3<1.25,>=1.21.1 in /usr/local/lib/python3.6/dist-packages (from requests>=2.3.0->update-checker>=0.16->TPOT) (1.24.3)\n",
      "Requirement already satisfied: idna<2.9,>=2.5 in /usr/local/lib/python3.6/dist-packages (from requests>=2.3.0->update-checker>=0.16->TPOT) (2.8)\n",
      "Requirement already satisfied: certifi>=2017.4.17 in /usr/local/lib/python3.6/dist-packages (from requests>=2.3.0->update-checker>=0.16->TPOT) (2019.11.28)\n",
      "Requirement already satisfied: chardet<3.1.0,>=3.0.2 in /usr/local/lib/python3.6/dist-packages (from requests>=2.3.0->update-checker>=0.16->TPOT) (3.0.4)\n",
      "Requirement already satisfied: six>=1.5 in /usr/local/lib/python3.6/dist-packages (from python-dateutil>=2.6.1->pandas>=0.24.2->TPOT) (1.12.0)\n",
      "Building wheels for collected packages: stopit\n",
      "  Building wheel for stopit (setup.py) ... \u001b[?25l\u001b[?25hdone\n",
      "  Created wheel for stopit: filename=stopit-1.1.2-cp36-none-any.whl size=11956 sha256=a0fe1622d86e9c314cdfc7ad3a1beea05c5698608a9b5f24dec13cd698b8b8d3\n",
      "  Stored in directory: /root/.cache/pip/wheels/3c/85/2b/2580190404636bfc63e8de3dff629c03bb795021e1983a6cc7\n",
      "Successfully built stopit\n",
      "Installing collected packages: update-checker, tqdm, stopit, deap, scikit-learn, TPOT\n",
      "  Found existing installation: tqdm 4.28.1\n",
      "    Uninstalling tqdm-4.28.1:\n",
      "      Successfully uninstalled tqdm-4.28.1\n",
      "  Found existing installation: scikit-learn 0.21.2\n",
      "    Uninstalling scikit-learn-0.21.2:\n",
      "      Successfully uninstalled scikit-learn-0.21.2\n",
      "Successfully installed TPOT-0.11.1 deap-1.3.1 scikit-learn-0.22.2.post1 stopit-1.1.2 tqdm-4.43.0 update-checker-0.16\n"
     ]
    },
    {
     "data": {
      "application/vnd.colab-display-data+json": {
       "pip_warning": {
        "packages": [
         "sklearn",
         "tqdm"
        ]
       }
      }
     },
     "metadata": {
      "tags": []
     },
     "output_type": "display_data"
    }
   ],
   "source": [
    "#!pip install TPOT"
   ]
  },
  {
   "cell_type": "code",
   "execution_count": 0,
   "metadata": {
    "colab": {},
    "colab_type": "code",
    "id": "9Eom0-OwJ25I"
   },
   "outputs": [],
   "source": [
    "#from tpot import TPOTRegressor"
   ]
  },
  {
   "cell_type": "code",
   "execution_count": 0,
   "metadata": {
    "colab": {},
    "colab_type": "code",
    "id": "6WLeSDBxKJYq"
   },
   "outputs": [],
   "source": [
    "#tpot = TPOTRegressor(generations=5, population_size=50, verbosity=2, random_state=42)\n",
    "#tpot.fit(X, y)\n",
    "#print(tpot.score(X_test, y_test))\n",
    "#tpot.export('/gdrive/My Drive/Case Study AIML/Energy Score Case Study/tpot_exported_pipeline.py')"
   ]
  },
  {
   "cell_type": "code",
   "execution_count": 0,
   "metadata": {
    "colab": {},
    "colab_type": "code",
    "id": "BhRQzTwDcW3R"
   },
   "outputs": [],
   "source": []
  }
 ],
 "metadata": {
  "accelerator": "GPU",
  "colab": {
   "collapsed_sections": [],
   "name": "Machine Learning Project Part 2.ipynb",
   "provenance": []
  },
  "kernelspec": {
   "display_name": "Python 3",
   "language": "python",
   "name": "python3"
  },
  "language_info": {
   "codemirror_mode": {
    "name": "ipython",
    "version": 3
   },
   "file_extension": ".py",
   "mimetype": "text/x-python",
   "name": "python",
   "nbconvert_exporter": "python",
   "pygments_lexer": "ipython3",
   "version": "3.7.3"
  }
 },
 "nbformat": 4,
 "nbformat_minor": 1
}
