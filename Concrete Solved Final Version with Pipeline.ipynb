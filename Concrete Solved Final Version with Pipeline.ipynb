{
 "cells": [
  {
   "cell_type": "code",
   "execution_count": 36,
   "metadata": {},
   "outputs": [],
   "source": [
    "import warnings\n",
    "warnings.filterwarnings('ignore')"
   ]
  },
  {
   "cell_type": "code",
   "execution_count": 37,
   "metadata": {},
   "outputs": [
    {
     "name": "stdout",
     "output_type": "stream",
     "text": [
      "Training R2\n",
      "0.6374354064424276\n",
      "Testing R2\n",
      "0.5022375995887234\n"
     ]
    }
   ],
   "source": [
    "import pandas as pd\n",
    "import numpy as np\n",
    "from sklearn.linear_model import LinearRegression\n",
    "import pandas as pd\n",
    "from sklearn.model_selection import train_test_split\n",
    "from sklearn.preprocessing import PolynomialFeatures\n",
    "from sklearn.model_selection import cross_val_score\n",
    "from sklearn.metrics import r2_score\n",
    "demo = pd.read_csv(\"concrete.csv\")\n",
    "X=demo.drop('strength',axis=1)\n",
    "y=demo['strength']\n",
    "Xtrain, Xtest, ytrain, ytest = train_test_split(X, y, test_size= .20,random_state=10)\n",
    "lr=LinearRegression()\n",
    "lr.fit(Xtrain,ytrain)\n",
    "print(\"Training R2\")\n",
    "print(lr.score(Xtrain,ytrain))\n",
    "print(\"Testing R2\")\n",
    "print(lr.score(Xtest,ytest))"
   ]
  },
  {
   "cell_type": "code",
   "execution_count": 38,
   "metadata": {},
   "outputs": [],
   "source": [
    "scoresdt = cross_val_score(lr, Xtrain, ytrain, cv=10)"
   ]
  },
  {
   "cell_type": "code",
   "execution_count": 39,
   "metadata": {},
   "outputs": [
    {
     "data": {
      "text/plain": [
       "array([0.52571613, 0.71904056, 0.62260097, 0.64177363, 0.71449256,\n",
       "       0.70070694, 0.58346583, 0.52009653, 0.65254622, 0.50414244])"
      ]
     },
     "execution_count": 39,
     "metadata": {},
     "output_type": "execute_result"
    }
   ],
   "source": [
    "scoresdt"
   ]
  },
  {
   "cell_type": "code",
   "execution_count": 40,
   "metadata": {},
   "outputs": [],
   "source": [
    "demo = pd.read_csv(\"concrete.csv\")\n",
    "X=demo.drop('strength',axis=1)\n",
    "y=demo['strength']\n",
    "Xtrain, Xtest, ytrain, ytest = train_test_split(X, y, test_size= .20,random_state=10)\n",
    "from sklearn.preprocessing import StandardScaler\n",
    "from sklearn.preprocessing import PolynomialFeatures\n",
    "from sklearn.decomposition import PCA\n",
    "poly = PolynomialFeatures(degree=3)\n",
    "pca = PCA(n_components=130)\n",
    "sc=StandardScaler()\n",
    "scaledXtrain = sc.fit_transform(Xtrain)\n",
    "scaledXtest = sc.transform(Xtest)\n",
    "polyscaledXtrain = poly.fit_transform(scaledXtrain)\n",
    "polyscaledXtest = poly.transform(scaledXtest)\n",
    "pcaXtrain = pca.fit_transform(polyscaledXtrain)\n",
    "pcaXtest = pca.transform(polyscaledXtest)\n",
    "lr=LinearRegression()\n",
    "scoresdt = cross_val_score(lr, polyscaledXtrain, ytrain, cv=10)\n",
    "lrpca=LinearRegression()\n",
    "scoresdtpca = cross_val_score(lrpca, pcaXtrain, ytrain, cv=10)"
   ]
  },
  {
   "cell_type": "code",
   "execution_count": 41,
   "metadata": {},
   "outputs": [
    {
     "name": "stdout",
     "output_type": "stream",
     "text": [
      "Before PCA\n",
      "0.8332261105080552\n",
      "After PCA\n",
      "0.8493339573287694\n"
     ]
    }
   ],
   "source": [
    "print(\"Before PCA\")\n",
    "print(np.mean(scoresdt))\n",
    "print(\"After PCA\")\n",
    "print(np.mean(scoresdtpca))"
   ]
  },
  {
   "cell_type": "code",
   "execution_count": 42,
   "metadata": {},
   "outputs": [
    {
     "name": "stdout",
     "output_type": "stream",
     "text": [
      "Bias Errors (1-Accuracy/R2)\n",
      "0.16677388949194483\n",
      "Variance Errors\n",
      "0.0029530298639429083\n"
     ]
    }
   ],
   "source": [
    "#Bias Variance Error Calculation\n",
    "print(\"Bias Errors (1-Accuracy/R2)\")\n",
    "print(1-np.mean(scoresdt))\n",
    "print(\"Variance Errors\")\n",
    "print(np.var(scoresdt))"
   ]
  },
  {
   "cell_type": "code",
   "execution_count": 51,
   "metadata": {},
   "outputs": [
    {
     "name": "stdout",
     "output_type": "stream",
     "text": [
      "After PCA Avg Cross Val R2\n",
      "0.7813763838828118\n"
     ]
    }
   ],
   "source": [
    "#With Pipeline\n",
    "\n",
    "import numpy as np\n",
    "from sklearn.pipeline import Pipeline\n",
    "from sklearn.preprocessing import StandardScaler\n",
    "from sklearn.preprocessing import StandardScaler\n",
    "from sklearn.preprocessing import PolynomialFeatures\n",
    "from sklearn.decomposition import PCA\n",
    "from sklearn.ensemble import RandomForestRegressor\n",
    "demo = pd.read_csv(\"concrete.csv\")\n",
    "X=demo.drop('strength',axis=1)\n",
    "y=demo['strength']\n",
    "Xtrain, Xtest, ytrain, ytest = train_test_split(X, y, test_size= .20,random_state=10)\n",
    "pipe = Pipeline((\n",
    "(\"scaler\", StandardScaler()),\n",
    "(\"poly\",PolynomialFeatures()),\n",
    "(\"pca\",PCA()),\n",
    "(\"rf\", LinearRegression()),\n",
    "))\n",
    "scoresdtpipe = cross_val_score(pipe, Xtrain, ytrain, cv=10)\n",
    "print(\"After PCA Avg Cross Val R2\")\n",
    "print(np.mean(scoresdtpipe))"
   ]
  },
  {
   "cell_type": "code",
   "execution_count": 52,
   "metadata": {},
   "outputs": [
    {
     "name": "stdout",
     "output_type": "stream",
     "text": [
      "Final model R2 on test data after fitting only on train data\n",
      "0.767463004635204\n"
     ]
    }
   ],
   "source": [
    "print(\"Final model R2 on test data after fitting only on train data\")\n",
    "pipe.fit(Xtrain,ytrain)\n",
    "print(pipe.score(Xtest,ytest))"
   ]
  },
  {
   "cell_type": "code",
   "execution_count": 62,
   "metadata": {},
   "outputs": [
    {
     "name": "stdout",
     "output_type": "stream",
     "text": [
      "Fitting 5 folds for each of 4 candidates, totalling 20 fits\n",
      "[CV] pca__n_components=15, poly__degree=2 ............................\n",
      "[CV] ............. pca__n_components=15, poly__degree=2, total=   0.0s\n",
      "[CV] pca__n_components=15, poly__degree=2 ............................\n",
      "[CV] ............. pca__n_components=15, poly__degree=2, total=   0.0s\n",
      "[CV] pca__n_components=15, poly__degree=2 ............................\n",
      "[CV] ............. pca__n_components=15, poly__degree=2, total=   0.0s\n",
      "[CV] pca__n_components=15, poly__degree=2 ............................\n",
      "[CV] ............. pca__n_components=15, poly__degree=2, total=   0.0s\n",
      "[CV] pca__n_components=15, poly__degree=2 ............................\n",
      "[CV] ............. pca__n_components=15, poly__degree=2, total=   0.0s\n",
      "[CV] pca__n_components=15, poly__degree=3 ............................\n",
      "[CV] ............. pca__n_components=15, poly__degree=3, total=   0.0s\n",
      "[CV] pca__n_components=15, poly__degree=3 ............................\n",
      "[CV] ............. pca__n_components=15, poly__degree=3, total=   0.0s\n",
      "[CV] pca__n_components=15, poly__degree=3 ............................\n"
     ]
    },
    {
     "name": "stderr",
     "output_type": "stream",
     "text": [
      "[Parallel(n_jobs=1)]: Using backend SequentialBackend with 1 concurrent workers.\n",
      "[Parallel(n_jobs=1)]: Done   1 out of   1 | elapsed:    0.0s remaining:    0.0s\n"
     ]
    },
    {
     "name": "stdout",
     "output_type": "stream",
     "text": [
      "[CV] ............. pca__n_components=15, poly__degree=3, total=   0.0s\n",
      "[CV] pca__n_components=15, poly__degree=3 ............................\n",
      "[CV] ............. pca__n_components=15, poly__degree=3, total=   0.0s\n",
      "[CV] pca__n_components=15, poly__degree=3 ............................\n",
      "[CV] ............. pca__n_components=15, poly__degree=3, total=   0.0s\n",
      "[CV] pca__n_components=30, poly__degree=2 ............................\n",
      "[CV] ............. pca__n_components=30, poly__degree=2, total=   0.0s\n",
      "[CV] pca__n_components=30, poly__degree=2 ............................\n",
      "[CV] ............. pca__n_components=30, poly__degree=2, total=   0.0s\n",
      "[CV] pca__n_components=30, poly__degree=2 ............................\n",
      "[CV] ............. pca__n_components=30, poly__degree=2, total=   0.0s\n",
      "[CV] pca__n_components=30, poly__degree=2 ............................\n",
      "[CV] ............. pca__n_components=30, poly__degree=2, total=   0.0s\n",
      "[CV] pca__n_components=30, poly__degree=2 ............................\n",
      "[CV] ............. pca__n_components=30, poly__degree=2, total=   0.0s\n",
      "[CV] pca__n_components=30, poly__degree=3 ............................\n",
      "[CV] ............. pca__n_components=30, poly__degree=3, total=   0.0s\n",
      "[CV] pca__n_components=30, poly__degree=3 ............................\n",
      "[CV] ............. pca__n_components=30, poly__degree=3, total=   0.0s\n",
      "[CV] pca__n_components=30, poly__degree=3 ............................\n",
      "[CV] ............. pca__n_components=30, poly__degree=3, total=   0.0s\n",
      "[CV] pca__n_components=30, poly__degree=3 ............................\n",
      "[CV] ............. pca__n_components=30, poly__degree=3, total=   0.0s\n",
      "[CV] pca__n_components=30, poly__degree=3 ............................\n",
      "[CV] ............. pca__n_components=30, poly__degree=3, total=   0.0s\n"
     ]
    },
    {
     "name": "stderr",
     "output_type": "stream",
     "text": [
      "[Parallel(n_jobs=1)]: Done  20 out of  20 | elapsed:    0.6s finished\n"
     ]
    },
    {
     "data": {
      "text/plain": [
       "GridSearchCV(cv=5, error_score='raise-deprecating',\n",
       "             estimator=Pipeline(memory=None,\n",
       "                                steps=[('scaler',\n",
       "                                        StandardScaler(copy=True,\n",
       "                                                       with_mean=True,\n",
       "                                                       with_std=True)),\n",
       "                                       ('poly',\n",
       "                                        PolynomialFeatures(degree=2,\n",
       "                                                           include_bias=True,\n",
       "                                                           interaction_only=False,\n",
       "                                                           order='C')),\n",
       "                                       ('pca',\n",
       "                                        PCA(copy=True, iterated_power='auto',\n",
       "                                            n_components=None,\n",
       "                                            random_state=None,\n",
       "                                            svd_solver='auto', tol=0.0,\n",
       "                                            whiten=False)),\n",
       "                                       ('rf',\n",
       "                                        LinearRegression(copy_X=True,\n",
       "                                                         fit_intercept=True,\n",
       "                                                         n_jobs=None,\n",
       "                                                         normalize=False))],\n",
       "                                verbose=False),\n",
       "             iid='warn', n_jobs=None,\n",
       "             param_grid={'pca__n_components': [15, 30], 'poly__degree': [2, 3]},\n",
       "             pre_dispatch='2*n_jobs', refit=True, return_train_score=False,\n",
       "             scoring=None, verbose=2)"
      ]
     },
     "execution_count": 62,
     "metadata": {},
     "output_type": "execute_result"
    }
   ],
   "source": [
    "from sklearn.model_selection import GridSearchCV\n",
    "cv=GridSearchCV(pipe,param_grid = {\n",
    "    'poly__degree': [2,3],\n",
    "    'pca__n_components': [15,30]\n",
    "}, cv=5, verbose=2)\n",
    "cv.fit(Xtrain,ytrain)"
   ]
  },
  {
   "cell_type": "code",
   "execution_count": 63,
   "metadata": {},
   "outputs": [
    {
     "name": "stdout",
     "output_type": "stream",
     "text": [
      "{'pca__n_components': 30, 'poly__degree': 2}\n"
     ]
    }
   ],
   "source": [
    "print(cv.best_params_)"
   ]
  },
  {
   "cell_type": "code",
   "execution_count": 64,
   "metadata": {},
   "outputs": [
    {
     "data": {
      "text/plain": [
       "0.7441487901525177"
      ]
     },
     "execution_count": 64,
     "metadata": {},
     "output_type": "execute_result"
    }
   ],
   "source": [
    "cv.best_score_"
   ]
  },
  {
   "cell_type": "code",
   "execution_count": 65,
   "metadata": {},
   "outputs": [
    {
     "data": {
      "text/plain": [
       "{'mean_fit_time': array([0.01371245, 0.03012481, 0.01948657, 0.03167801]),\n",
       " 'std_fit_time': array([0.00272445, 0.00350826, 0.00277295, 0.00379248]),\n",
       " 'mean_score_time': array([0.00473895, 0.00982528, 0.00371833, 0.00888982]),\n",
       " 'std_score_time': array([0.00214946, 0.00213254, 0.00148402, 0.00118888]),\n",
       " 'param_pca__n_components': masked_array(data=[15, 15, 30, 30],\n",
       "              mask=[False, False, False, False],\n",
       "        fill_value='?',\n",
       "             dtype=object),\n",
       " 'param_poly__degree': masked_array(data=[2, 3, 2, 3],\n",
       "              mask=[False, False, False, False],\n",
       "        fill_value='?',\n",
       "             dtype=object),\n",
       " 'params': [{'pca__n_components': 15, 'poly__degree': 2},\n",
       "  {'pca__n_components': 15, 'poly__degree': 3},\n",
       "  {'pca__n_components': 30, 'poly__degree': 2},\n",
       "  {'pca__n_components': 30, 'poly__degree': 3}],\n",
       " 'split0_test_score': array([0.36824009, 0.28513206, 0.71358943, 0.50196347]),\n",
       " 'split1_test_score': array([0.24389382, 0.34396462, 0.76031725, 0.51793157]),\n",
       " 'split2_test_score': array([0.44381569, 0.39634947, 0.73237228, 0.57777002]),\n",
       " 'split3_test_score': array([0.28086881, 0.35919435, 0.74699187, 0.48383171]),\n",
       " 'split4_test_score': array([0.30182162, 0.36852354, 0.76761535, 0.5338369 ]),\n",
       " 'mean_test_score': array([0.32775945, 0.3506111 , 0.74414879, 0.52305366]),\n",
       " 'std_test_score': array([0.07076574, 0.03694464, 0.01945095, 0.0320158 ]),\n",
       " 'rank_test_score': array([4, 3, 1, 2])}"
      ]
     },
     "execution_count": 65,
     "metadata": {},
     "output_type": "execute_result"
    }
   ],
   "source": [
    "cv.cv_results_"
   ]
  },
  {
   "cell_type": "code",
   "execution_count": null,
   "metadata": {},
   "outputs": [],
   "source": []
  }
 ],
 "metadata": {
  "kernelspec": {
   "display_name": "Python 3",
   "language": "python",
   "name": "python3"
  },
  "language_info": {
   "codemirror_mode": {
    "name": "ipython",
    "version": 3
   },
   "file_extension": ".py",
   "mimetype": "text/x-python",
   "name": "python",
   "nbconvert_exporter": "python",
   "pygments_lexer": "ipython3",
   "version": "3.7.3"
  }
 },
 "nbformat": 4,
 "nbformat_minor": 2
}
